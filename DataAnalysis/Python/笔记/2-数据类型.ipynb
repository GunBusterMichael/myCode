{
 "cells": [
  {
   "cell_type": "markdown",
   "metadata": {},
   "source": [
    "# 二、数据类型"
   ]
  },
  {
   "cell_type": "markdown",
   "metadata": {},
   "source": [
    "## 1. 数值 Number"
   ]
  },
  {
   "cell_type": "code",
   "execution_count": null,
   "metadata": {},
   "outputs": [],
   "source": [
    "\"\"\"\n",
    "    数值类型有四种：\n",
    "      int（整数型）、bool（布尔型）、floot（浮点型）、complex（复数型）\n",
    "      布尔型：True == 1; False == 0\n",
    "\"\"\"\n",
    "print(True == 1)   # True\n",
    "print(True == 2)   # False\n",
    "print(False == 0)  # True\n",
    "print(False == -1) # False"
   ]
  },
  {
   "cell_type": "markdown",
   "metadata": {},
   "source": [
    "## 2. 字符串 str"
   ]
  },
  {
   "cell_type": "code",
   "execution_count": null,
   "metadata": {},
   "outputs": [],
   "source": [
    "# 声明字符串\n",
    "a = 'aaaa'\n",
    "b = 'bbbb'\n",
    "\n",
    "# 转义字符\n",
    "print('Hello, \\'World') # Hello, 'World\n",
    "\n",
    "# 字符串截取 [左闭, 右开]，起始位置是0\n",
    "print('abcde'[0:2]) # 'ab'"
   ]
  },
  {
   "cell_type": "code",
   "execution_count": null,
   "metadata": {},
   "outputs": [],
   "source": [
    "# # 列表内置函数\n",
    "# | 分类   | 语法            | 功能                          |\n",
    "# | ------ | --------------- | ----------------------------- |\n",
    "# | 长度   | len(list)       | 返回列表元素个数              |\n",
    "# | 最大值 | max(list)       | 返回列表元素中的最大值        |\n",
    "# | 最小值 | min(list)       | 返回列表元素中的最小值        |\n",
    "# | 转换   | list(tuple)     | 将元组转换为列表              |\n",
    "# | 删除   | del list[i:j:k] | 从列表中移除list[i:j:k]的元素 |\n",
    "\n",
    "\n",
    "# # 列表内置方法\n",
    "# | 分类 | 语法                                        | 功能                                                         |\n",
    "# | ------- | ------------------------------------------- | ------------------------------------------------------------ |\n",
    "# | 排序    | list.reverse()                              | 将list中元素逆序排序                                         |\n",
    "# | 排序    | list.sort(key=None, reverse=False)          | 将list中元素排序                                             |\n",
    "# | 添加    | list.append(obj) 不能写l = list.append(obj) | 在列表末尾添加新的对象，对象作为一个整体被添加进list         |\n",
    "# | 扩展    | list.extend(seq)或list += seq               | 在列表末尾一次性追加另一个序列中的多个值（用新列表扩展原来的列表） |\n",
    "# | 插入    | list.insert(index, obj)                     | 在索引位置index处插入obj，即list[index:index] = [obj]        |\n",
    "# | 查找    | list.index(x[, start[, end]])               | 从列表中找出某个值第一个匹配项的索引位置                     |\n",
    "# | 计数    | list.count(obj)                             | 统计某个元素在列表中出现的次数                               |\n",
    "# | 删除    | list.remove(obj)                            | 移除列表中某个值的第一个匹配项                               |\n",
    "# | 删除    | list.pop([index=-1])                        | 移除列表中的一个元素（默认最后一个元素），返回该元素的值     |\n"
   ]
  },
  {
   "cell_type": "markdown",
   "metadata": {},
   "source": [
    "## 3. 列表 list"
   ]
  },
  {
   "cell_type": "code",
   "execution_count": null,
   "metadata": {},
   "outputs": [],
   "source": [
    "# 声明列表\n",
    "arr1 = ['a', 1, [2, 3], 4]\n",
    "\n",
    "# 列表长度\n",
    "print(len(arr1)) # 3\n",
    "\n",
    "# 列表截取\n",
    "print(arr1[0])       # [索引值] 3\n",
    "print(arr1[0: 2])    # 左闭右开 ['a', 1]\n",
    "print(arr1[0:])      # 从冒号左边的索引值一直取到最后一个成员 ['a', 1, [2, 3], 4]\n",
    "print(arr1[-3: -1])  # 从右向左的索引号：-1, -2, -3, ... [1, [2, 3]]\n",
    "\n",
    "# 删除元素，并返回被删除的元素 list.pop(索引值)\n",
    "a = arr1.pop(0)\n",
    "print(a) # 'a'\n",
    "\n",
    "# 在 list 末尾添加一个元素 list.append(元素)\n",
    "arr1.append('x')\n",
    "print(arr1)  # [1, [2, 3], 4, 'x']"
   ]
  },
  {
   "cell_type": "code",
   "execution_count": null,
   "metadata": {},
   "outputs": [],
   "source": [
    "# # 列表内置函数\n",
    "# | 分类   | 语法            | 功能                          |\n",
    "# | ------ | --------------- | ----------------------------- |\n",
    "# | 长度   | len(list)       | 返回列表元素个数              |\n",
    "# | 最大值 | max(list)       | 返回列表元素中的最大值        |\n",
    "# | 最小值 | min(list)       | 返回列表元素中的最小值        |\n",
    "# | 转换   | list(tuple)     | 将元组转换为列表              |\n",
    "# | 删除   | del list[i:j:k] | 从列表中移除list[i:j:k]的元素 |\n",
    "\n",
    "\n",
    "# # 列表内置方法\n",
    "# | 分类 | 语法                                        | 功能                                                         |\n",
    "# | ------- | ------------------------------------------- | ------------------------------------------------------------ |\n",
    "# | 排序    | list.reverse()                              | 将list中元素逆序排序                                         |\n",
    "# | 排序    | list.sort(key=None, reverse=False)          | 将list中元素排序                                             |\n",
    "# | 添加    | list.append(obj) 不能写l = list.append(obj) | 在列表末尾添加新的对象，对象作为一个整体被添加进list         |\n",
    "# | 扩展    | list.extend(seq)或list += seq               | 在列表末尾一次性追加另一个序列中的多个值（用新列表扩展原来的列表） |\n",
    "# | 插入    | list.insert(index, obj)                     | 在索引位置index处插入obj，即list[index:index] = [obj]        |\n",
    "# | 查找    | list.index(x[, start[, end]])               | 从列表中找出某个值第一个匹配项的索引位置                     |\n",
    "# | 计数    | list.count(obj)                             | 统计某个元素在列表中出现的次数                               |\n",
    "# | 删除    | list.remove(obj)                            | 移除列表中某个值的第一个匹配项                               |\n",
    "# | 删除    | list.pop([index=-1])                        | 移除列表中的一个元素（默认最后一个元素），返回该元素的值     |"
   ]
  },
  {
   "cell_type": "markdown",
   "metadata": {},
   "source": [
    "## 4. 元组"
   ]
  },
  {
   "cell_type": "code",
   "execution_count": null,
   "metadata": {},
   "outputs": [],
   "source": [
    "# 元组：元组与列表类似，可以容纳任意类型和数量的对象。\n",
    "# 不同之处在于，元组中的元素不能修改（元组中存储的对象及其自身是可变的），这样使代码更安全。可以访问，但不能修改。\n",
    "\n",
    "# 声明元组\n",
    "a = ('a', 'b', 'c', 'd', 'e', 'f', 'g')\n",
    "\n",
    "# 元组截取\n",
    "print(a[0: 3]) # ('a', 'b', 'c')\n",
    "\n",
    "# 元组中只包含一个元素时，需要在元素后添加逗号。如tup1 = (10,)。\n",
    "\n",
    "a = (10, )\n",
    "type(a) # tuple"
   ]
  },
  {
   "cell_type": "code",
   "execution_count": null,
   "metadata": {},
   "outputs": [],
   "source": [
    "# # 元组内置函数\n",
    "# | 分类   | 语法        | 功能                                       |\n",
    "# | ------ | ----------- | ------------------------------------------ |\n",
    "# | 长度   | len(tuple)  | 返回元组元素个数                           |\n",
    "# | 最大值 | max(tuple)  | 返回元组元素中的最大值                     |\n",
    "# | 最小值 | min(tuple)  | 返回元组元素中的最小值                     |\n",
    "# | 转换   | tuple(list) | 将列表转换为元组                           |\n",
    "# | 删除   | del tuple   | 不允许删除元组中的元素，但可以删除整个元组 |\n",
    "\n",
    "\n",
    "# # 元组内置方法\n",
    "# | 分类    | 语法                           | 功能                                     |\n",
    "# | ------- | ------------------------------ | ---------------------------------------- |\n",
    "# | 查找    | tuple.index(x[, start[, end]]) | 从元组中找出某个值第一个匹配项的索引位置 |\n",
    "# | 计数    | tuple.count(obj)               | 统计某个元素在元组中出现的次数           |"
   ]
  },
  {
   "cell_type": "markdown",
   "metadata": {},
   "source": [
    "## 5. 字典 dict"
   ]
  },
  {
   "cell_type": "code",
   "execution_count": 7,
   "metadata": {},
   "outputs": [
    {
     "name": "stdout",
     "output_type": "stream",
     "text": [
      "dict_keys(['English', 'Math', 'Chemistry'])\n",
      "dict_values([99, 67, 67])\n",
      "99\n",
      "99\n"
     ]
    }
   ],
   "source": [
    "# 字典：键值对的集合（对象）\n",
    "# 键是不可变的对象，不可以是list\n",
    "# 键是唯一的，如果有重复的键，则后一个键替换前面的键\n",
    "# 值可以为任意类型，通过hash()函数可以检查一个对象是否可以哈希化（即是否可以用作字典的键）\n",
    "\n",
    "# 声明字典\n",
    "d = {\n",
    "    'key1': 'value1',\n",
    "    'key2': 'value2'\n",
    "}\n",
    "d = dict(key1 = 'a', key2 = 'b')\n",
    "\n",
    "d = {'English': 99, 'Math': 67, 'Chemistry': 67}\n",
    "# 获取一个字典的所有key\n",
    "print(d.keys())  # dict_keys(['English', 'Math', 'Chemistry'])\n",
    "# 获取一个字典的所有value\n",
    "print(d.values())  # dict_values([99, 67, 67])\n",
    "# 获取指定key的value\n",
    "print(d['English']) # 99\n",
    "print(d.get('English')) # 99\n"
   ]
  },
  {
   "cell_type": "code",
   "execution_count": null,
   "metadata": {},
   "outputs": [],
   "source": [
    "# # 字典内置函数\n",
    "# | 分类 | 语法              | 功能                       |\n",
    "# | ---- | ----------------- | -------------------------- |\n",
    "# | 长度 | len(dict)         | 返回字典的元素个数         |\n",
    "# | 转换 | str(dict)         | 将字段转换为可打印的字符串 |\n",
    "# | 类型 | type(dict)        | 返回输入的变量类型         |\n",
    "\n",
    "\n",
    "# 字典内置方法\n",
    "# | 分类   | 语法                               | 功能                                                         |\n",
    "# | ------ | ---------------------------------- | ------------------------------------------------------------ |\n",
    "# | 获取   | dict.items()                       | 返回键和值的迭代器                                           |\n",
    "# | 获取   | dict.keys()                        | 返回键的迭代器                                               |\n",
    "# | 获取   | dict.values()                      | 返回值的迭代器                                               |\n",
    "# | 获取   | dict.get(key[, value])             | 返回指定键key的值，键中无key则返回设置的default值            |\n",
    "# | 获取   | dict.setdefault(key, default=None) | 返回指定键key的值，与dict.get(key,default)类似               |\n",
    "# | 增改   | dict[k1] = v1                      | 修改或新增键值对。如k1在d1中已存在则为修改，不存在则为新增   |\n",
    "# | 删除   | dict.popitem()                     | 删除并返回最后一个键值对，如果字典为空，则抛出KeyError异常。 |\n",
    "# | 删除   | dict.pop(key[,default])            | 删除键值对，返回值为被删除的值。                             |\n",
    "# | 删除   | del dict[key1]                     | 删除键值对，与dict.pop()类似，但是没有返回值。               |\n",
    "# | 删除   | dict.clear()                       | 删除字典内所有元素，没有任何返回值                           |\n",
    "# | 删除   | del dict                           | 删除字典dict                                                 |\n",
    "# | 更新   | dict.update(dict2)                 | 将字典dict2的键值对更新进dict，没有任何返回值。              |\n",
    "# | 新字典 | dict.fromkeys(seq[, value])        | 序列seq元素为键，val为值，返回一个新字典。                   |\n",
    "# | 复制   | dict.copy()                        | 一个字典的浅复制                                             |"
   ]
  },
  {
   "cell_type": "markdown",
   "metadata": {},
   "source": [
    "## 6. 集合 set"
   ]
  },
  {
   "cell_type": "code",
   "execution_count": null,
   "metadata": {},
   "outputs": [],
   "source": [
    "# 集合：集合与字典类似，是键 (Key) 的集合，但不存储值 (Value)。"
   ]
  }
 ],
 "metadata": {
  "kernelspec": {
   "display_name": "Python 3.10.7 64-bit",
   "language": "python",
   "name": "python3"
  },
  "language_info": {
   "codemirror_mode": {
    "name": "ipython",
    "version": 3
   },
   "file_extension": ".py",
   "mimetype": "text/x-python",
   "name": "python",
   "nbconvert_exporter": "python",
   "pygments_lexer": "ipython3",
   "version": "3.10.7"
  },
  "orig_nbformat": 4,
  "vscode": {
   "interpreter": {
    "hash": "657d93d108f8ceb5549d439fcb6f6fe45ca1b06c8b798c25a3c91558a4f1fe36"
   }
  }
 },
 "nbformat": 4,
 "nbformat_minor": 2
}
