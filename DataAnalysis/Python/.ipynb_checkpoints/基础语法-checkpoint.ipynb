{
 "cells": [
  {
   "cell_type": "markdown",
   "id": "bb1f0430",
   "metadata": {},
   "source": [
    "# 一、Python 基础语法"
   ]
  },
  {
   "cell_type": "markdown",
   "id": "6cd691f0",
   "metadata": {},
   "source": [
    "## 1. 语言语义"
   ]
  },
  {
   "cell_type": "code",
   "execution_count": null,
   "id": "18f9f008",
   "metadata": {},
   "outputs": [],
   "source": [
    "### 1.1 缩进"
   ]
  },
  {
   "cell_type": "code",
   "execution_count": 2,
   "id": "f1e7cd6e",
   "metadata": {},
   "outputs": [
    {
     "name": "stdout",
     "output_type": "stream",
     "text": [
      "0\n",
      "1\n",
      "3\n",
      "6\n",
      "10\n",
      "15\n",
      "21\n",
      "28\n",
      "36\n",
      "45\n",
      "55\n"
     ]
    }
   ],
   "source": [
    "# 缩进为四个空格，是 python 中唯一标识代码层次的手段\n",
    "# 要么只用四个空格，要么只用一个tab\n",
    "sum = 0\n",
    "for i in range (11):\n",
    "    sum += i\n",
    "    print(sum) # shift + enter 运行当前 Cell 内的代码"
   ]
  },
  {
   "cell_type": "code",
   "execution_count": null,
   "id": "1cda771a",
   "metadata": {},
   "outputs": [],
   "source": []
  }
 ],
 "metadata": {
  "kernelspec": {
   "display_name": "Python 3 (ipykernel)",
   "language": "python",
   "name": "python3"
  },
  "language_info": {
   "codemirror_mode": {
    "name": "ipython",
    "version": 3
   },
   "file_extension": ".py",
   "mimetype": "text/x-python",
   "name": "python",
   "nbconvert_exporter": "python",
   "pygments_lexer": "ipython3",
   "version": "3.9.13"
  }
 },
 "nbformat": 4,
 "nbformat_minor": 5
}
