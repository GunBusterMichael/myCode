{
 "cells": [
  {
   "cell_type": "markdown",
   "id": "bb1f0430",
   "metadata": {},
   "source": [
    "# 一、Python 基础语法"
   ]
  },
  {
   "cell_type": "markdown",
   "id": "6cd691f0",
   "metadata": {},
   "source": [
    "## 1. 语言语义"
   ]
  },
  {
   "cell_type": "markdown",
   "id": "18f9f008",
   "metadata": {},
   "source": [
    "### 1.1 缩进"
   ]
  },
  {
   "cell_type": "code",
   "execution_count": null,
   "id": "f1e7cd6e",
   "metadata": {},
   "outputs": [],
   "source": [
    "# 缩进为四个空格，是 python 中唯一标识代码层次的手段\n",
    "# 要么只用四个空格，要么只用一个tab\n",
    "sum = 0\n",
    "for i in range (11):\n",
    "    sum += i\n",
    "    print(sum) # shift + enter 运行当前 Cell 内的代码"
   ]
  },
  {
   "cell_type": "markdown",
   "id": "1cda771a",
   "metadata": {},
   "source": [
    "### 1.2 注释"
   ]
  },
  {
   "cell_type": "code",
   "execution_count": null,
   "id": "13d6d44b",
   "metadata": {},
   "outputs": [],
   "source": [
    "# 单行注释\n",
    "\n",
    "\"\"\"\n",
    "多行注释\n",
    "多行注释\n",
    "\"\"\""
   ]
  },
  {
   "cell_type": "markdown",
   "id": "ea67d54d",
   "metadata": {},
   "source": [
    "### 1.3 引用模块"
   ]
  },
  {
   "cell_type": "code",
   "execution_count": null,
   "id": "4a16ebe1",
   "metadata": {},
   "outputs": [],
   "source": [
    "# import 模块名 as 别名\n",
    "import pandas as pd\n",
    "import numpy as np"
   ]
  },
  {
   "cell_type": "markdown",
   "id": "982109ea",
   "metadata": {},
   "source": [
    "## 2. 变量"
   ]
  },
  {
   "cell_type": "markdown",
   "id": "b980975b",
   "metadata": {},
   "source": [
    "### 2.1 声明变量 && 变量赋值"
   ]
  },
  {
   "cell_type": "code",
   "execution_count": 1,
   "id": "9b64272d",
   "metadata": {},
   "outputs": [
    {
     "name": "stdout",
     "output_type": "stream",
     "text": [
      "a\n",
      "3\n",
      "1\n",
      "2\n",
      "a is bb and b is aa\n"
     ]
    }
   ],
   "source": [
    "\"\"\"\n",
    "- 使用大小写字母、数字和下划线定义变量；\n",
    "- 不能以数字开头；\n",
    "- 不能和保留字相同；\n",
    "- 大小写敏感。\n",
    "\"\"\"\n",
    "\n",
    "# 不需要进行类型声明，不需要使用 var 等关键字：\n",
    "a = 'a'\n",
    "print(a)\n",
    "\n",
    "# 同一个变量可被赋予不同的值，后值覆盖前值\n",
    "a = 'a'\n",
    "a = 3\n",
    "print(a)\n",
    "\n",
    "# 同时初始化多个变量\n",
    "a, b = 1, 2\n",
    "print(a)\n",
    "print(b)\n",
    "\n",
    "# 变量交换\n",
    "a = 'aa'\n",
    "b = 'bb'\n",
    "a, b = b, a\n",
    "print('a is ' + a + ' and b is ' + b)"
   ]
  },
  {
   "cell_type": "markdown",
   "id": "203ac12b",
   "metadata": {},
   "source": [
    "### 2.2 判断变量是否相等"
   ]
  },
  {
   "cell_type": "code",
   "execution_count": 17,
   "id": "5038a068",
   "metadata": {},
   "outputs": [
    {
     "name": "stdout",
     "output_type": "stream",
     "text": [
      "False\n",
      "True\n",
      "False\n",
      "True\n",
      "True\n",
      "False\n"
     ]
    },
    {
     "name": "stderr",
     "output_type": "stream",
     "text": [
      "<>:22: SyntaxWarning: \"is\" with a literal. Did you mean \"==\"?\n",
      "<>:22: SyntaxWarning: \"is\" with a literal. Did you mean \"==\"?\n",
      "C:\\Users\\GunBuster\\AppData\\Local\\Temp\\ipykernel_14168\\1119521180.py:22: SyntaxWarning: \"is\" with a literal. Did you mean \"==\"?\n",
      "  print(0 is False)\n"
     ]
    }
   ],
   "source": [
    "# == 判断值和类型是否相等\n",
    "# is 判断内存地址是否相等\n",
    "# 字符和小于等于 256 的整数，因为已经被 python 缓存，所以地址相同；大于 256 的整数和全部浮点数，地址不同\n",
    "\n",
    "a = 1\n",
    "b = '1'\n",
    "print(a == b) # False\n",
    "\n",
    "a = 256\n",
    "b = 256\n",
    "print(a is b) # True\n",
    "\n",
    "a = 0.1\n",
    "b = 0.1\n",
    "print(a is b) # False\n",
    "\n",
    "a = 'z'\n",
    "b = 'z'\n",
    "print(a is b) # True\n",
    "\n",
    "print(0 == False) # True\n",
    "print(0 is False) # False"
   ]
  },
  {
   "cell_type": "markdown",
   "id": "3ef49ca5",
   "metadata": {},
   "source": [
    "### 2.3 运算符"
   ]
  },
  {
   "cell_type": "code",
   "execution_count": 19,
   "id": "469c8884",
   "metadata": {},
   "outputs": [
    {
     "name": "stdout",
     "output_type": "stream",
     "text": [
      "4\n",
      "2\n",
      "537824\n",
      "5\n",
      "14\n",
      "True\n"
     ]
    }
   ],
   "source": [
    "a = 14\n",
    "b = 5\n",
    "\n",
    "# 算术运算符 + - * / % // **\n",
    "print(a % b) # 取余数\n",
    "print(a // b) # 向下取整\n",
    "print(a ** b) # a的b次幂\n",
    "\n",
    "# 比较运算符 == != > < >= <=\n",
    "\n",
    "# 赋值运算符 = += -= *= /= %= **= //=\n",
    "# a += b\n",
    "# a = a + b\n",
    "\n",
    "# a %= b\n",
    "# a = a % b\n",
    "\n",
    "# 逻辑运算符 and与 or或\n",
    "# a and b：a为True，则返回b；a为False，则返回False\n",
    "# a or b：a为True，则返回b；a为False，则返回b\n",
    "print(a and b) # 14\n",
    "print(a or b) # 5\n",
    "# not a：如果 a 为 True，返回 False ；如果 a 为 False，它返回 True\n",
    "print(not a) # False"
   ]
  },
  {
   "cell_type": "code",
   "execution_count": 25,
   "id": "ee7ef4e3",
   "metadata": {},
   "outputs": [
    {
     "name": "stdout",
     "output_type": "stream",
     "text": [
      "True\n",
      "True\n",
      "False\n",
      "True\n"
     ]
    }
   ],
   "source": [
    "# 成员运算符 in, not in\n",
    "\n",
    "num1 = 1\n",
    "str1 = 'w'\n",
    "arr1 = [1, str1]\n",
    "\n",
    "print(num1 in arr1) # True\n",
    "print('w' in arr1) # True\n",
    "print(2 in arr1) # False\n",
    "\n",
    "print(2 not in arr1)"
   ]
  },
  {
   "cell_type": "code",
   "execution_count": 26,
   "id": "1ba7b2e7",
   "metadata": {},
   "outputs": [
    {
     "name": "stdout",
     "output_type": "stream",
     "text": [
      "False\n",
      "True\n"
     ]
    }
   ],
   "source": [
    "# 身份运算符 is, is not\n",
    "# 判断两个变量的内存地址是否相同\n",
    "a = 257\n",
    "b = 257\n",
    "print(a is b) # False\n",
    "print(a is not b) # True"
   ]
  }
 ],
 "metadata": {
  "kernelspec": {
   "display_name": "Python 3.10.7 64-bit",
   "language": "python",
   "name": "python3"
  },
  "language_info": {
   "codemirror_mode": {
    "name": "ipython",
    "version": 3
   },
   "file_extension": ".py",
   "mimetype": "text/x-python",
   "name": "python",
   "nbconvert_exporter": "python",
   "pygments_lexer": "ipython3",
   "version": "3.10.7"
  },
  "vscode": {
   "interpreter": {
    "hash": "657d93d108f8ceb5549d439fcb6f6fe45ca1b06c8b798c25a3c91558a4f1fe36"
   }
  }
 },
 "nbformat": 4,
 "nbformat_minor": 5
}
