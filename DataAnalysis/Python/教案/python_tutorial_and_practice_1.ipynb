{
 "cells": [
  {
   "cell_type": "markdown",
   "id": "4ab0cf74-5c18-4624-83bf-f70ae7348ac6",
   "metadata": {},
   "source": [
    "# 一、Python的基础语法"
   ]
  },
  {
   "cell_type": "markdown",
   "id": "dd46dad1",
   "metadata": {},
   "source": [
    "## 1. 语言语义"
   ]
  },
  {
   "cell_type": "code",
   "execution_count": null,
   "id": "a86b2230-565a-455e-810a-5b5539b37dc1",
   "metadata": {},
   "outputs": [],
   "source": [
    "# 缩进\n",
    "sum = 0\n",
    "for i in range(11):\n",
    "    sum += i\n",
    "    print(i)"
   ]
  },
  {
   "cell_type": "code",
   "execution_count": null,
   "id": "139175b1-1032-4638-959e-7ed21563c48a",
   "metadata": {},
   "outputs": [],
   "source": [
    "# 注释\n",
    "\n",
    "\"\"\"\n",
    "说明信息，不被执行；大段代码暂时不用，不要删除，先注释掉。\n",
    "快捷键：全部选中，Ctrl + /\n",
    "\"\"\""
   ]
  },
  {
   "cell_type": "code",
   "execution_count": null,
   "id": "3ed25ee6-e7a4-46bc-8f06-9a339568b9cd",
   "metadata": {},
   "outputs": [],
   "source": [
    "# 引用模块\n",
    "\n",
    "# import 模块名 as 别名\n",
    "import pandas as pd\n",
    "import numpy as np"
   ]
  },
  {
   "cell_type": "markdown",
   "id": "7d23496b-a200-48ef-9099-33d733195ac3",
   "metadata": {},
   "source": [
    "## 2. 变量"
   ]
  },
  {
   "cell_type": "code",
   "execution_count": null,
   "id": "895b6372-7812-4247-a369-81c50d6a3c78",
   "metadata": {},
   "outputs": [],
   "source": [
    "\"\"\"\n",
    "变量是存放数据值的容器。程序执行过程中，值发生改变或需要改变的元素，叫变量。\n",
    "注意事项：使用大小写字母、数字、下划线；不能以数字开头；大小写敏感；不能和保留字相同。\n",
    "\"\"\"\n",
    "\n",
    "# 变量不需要使用任何特定类型声明\n",
    "a = 'a'\n",
    "print(a)\n",
    "\n",
    "# 同一个变量可赋不同的值，后值覆盖前值\n",
    "a = 'a'\n",
    "a = 3\n",
    "print(a)\n",
    "\n",
    "# 向多个变量赋值\n",
    "a, b = 2, 3\n",
    "print(a)\n",
    "print(b)\n",
    "\n",
    "# 变量交换\n",
    "a = 'aa'\n",
    "b = 'bb'\n",
    "a, b = b, a\n",
    "print('a is ' + a + ', b is ' + b)"
   ]
  },
  {
   "cell_type": "code",
   "execution_count": null,
   "id": "74c4d345-4d52-40c6-8836-7d8428b442f5",
   "metadata": {},
   "outputs": [],
   "source": [
    "# 判断两个变量的字面值是否相等：==\n",
    "# 判断两个变量的地址是否相同：is\n",
    "# 256及以下整数及字符，已被python缓存，因此地址相同；而大于256的整数及全部浮点数，地址不同。\n",
    "\n",
    "# a = 20\n",
    "# b = 20\n",
    "\n",
    "# a = 257\n",
    "# b = 257\n",
    "\n",
    "# a = 0.4\n",
    "# b = 0.4\n",
    "\n",
    "a = 'aaa'\n",
    "b = 'aaa'\n",
    "\n",
    "print(a == b)\n",
    "print(a is b)"
   ]
  },
  {
   "cell_type": "markdown",
   "id": "3f7fb603-378a-4093-b445-f258106177d4",
   "metadata": {},
   "source": [
    "## 3. 打印输出"
   ]
  },
  {
   "cell_type": "code",
   "execution_count": null,
   "id": "bdabf31f-06e9-4d56-aef5-f887f55f0a43",
   "metadata": {},
   "outputs": [],
   "source": [
    "\"\"\"\n",
    "print(*objects, sep=' ', end='\\n', …)\n",
    "参数\n",
    "objects: 复数，表示可以一次输出多个对象。输出多个对象时，需要用 , 分隔。\n",
    "sep: 分隔符，用来间隔多个对象，默认值是一个空格。\n",
    "end: 终止符，用来设定以什么结尾。默认值是换行符 \\n，可以换成其他字符串。\n",
    "\"\"\"\n",
    "\n",
    "for i in range(10):\n",
    "    print(i)"
   ]
  },
  {
   "cell_type": "markdown",
   "id": "8e5ed8e2-d194-4caa-94ab-a07db7ea772e",
   "metadata": {},
   "source": [
    "## 4. 运算符"
   ]
  },
  {
   "cell_type": "code",
   "execution_count": null,
   "id": "b05ea608-f8e4-4fef-a3f9-6df307c7d1f3",
   "metadata": {},
   "outputs": [],
   "source": [
    "a = 14\n",
    "b = 5\n",
    "\n",
    "# 算术运算符 + - * / % ** //\n",
    "print(a % b)\n",
    "print(a // b) # 向下取整"
   ]
  },
  {
   "cell_type": "code",
   "execution_count": null,
   "id": "4a6c42f8-4e7a-444b-91cb-ab03d09a702c",
   "metadata": {},
   "outputs": [],
   "source": [
    "# 比较运算符 == != > < >= <=\n",
    "print(a == b)\n",
    "print(a > b)"
   ]
  },
  {
   "cell_type": "code",
   "execution_count": null,
   "id": "a8bbf06e-216e-4f36-ae52-29d37c8e7028",
   "metadata": {},
   "outputs": [],
   "source": [
    "a = 14\n",
    "b = 5\n",
    "\n",
    "# 赋值运算符 = += -= *= /= %= **= //=\n",
    "# a += b\n",
    "# a = a + b\n",
    "# print(a)\n",
    "\n",
    "# a %= b\n",
    "# a = a % b\n",
    "# print(a)\n",
    "\n",
    "a //= b\n",
    "print(a)"
   ]
  },
  {
   "cell_type": "code",
   "execution_count": null,
   "id": "5c8d2ec6-101f-419c-bffc-8c3dc57f6b0f",
   "metadata": {},
   "outputs": [],
   "source": [
    "a = 14\n",
    "b = 5\n",
    "\n",
    "# 逻辑运算符 and or not\n",
    "# a and b\n",
    "a or b"
   ]
  },
  {
   "cell_type": "code",
   "execution_count": null,
   "id": "f5a33bf7-3db2-453d-b0ba-3b0f11d9cf7a",
   "metadata": {},
   "outputs": [],
   "source": [
    "a = 14\n",
    "b = [14, 'm']\n",
    "\n",
    "# 成员运算符 in not in\n",
    "# a in b\n",
    "a not in b"
   ]
  },
  {
   "cell_type": "code",
   "execution_count": null,
   "id": "dc774f00-dd07-486f-83e3-f9d29ed75538",
   "metadata": {},
   "outputs": [],
   "source": [
    "# 身份运算符 is is not\n",
    "# 来判断的两个对象的存储单元是否相同的一种运算符号\n",
    "\n",
    "a = 257\n",
    "b = 257\n",
    "\n",
    "print(a == b)\n",
    "print(a is b) # 等同于下面\n",
    "print(id(a) == id(b))"
   ]
  },
  {
   "cell_type": "markdown",
   "id": "55ad0e37-78ae-4d01-8af1-f2b4ea5db23d",
   "metadata": {
    "tags": []
   },
   "source": [
    "# 二、Python的数据类型"
   ]
  },
  {
   "cell_type": "markdown",
   "id": "2d284205-a4ae-4419-b675-7e53f62b45f2",
   "metadata": {},
   "source": [
    "## 1. 数值 Number"
   ]
  },
  {
   "cell_type": "code",
   "execution_count": null,
   "id": "7ff47d49-54e7-4eaa-97de-62d961b9dbe5",
   "metadata": {},
   "outputs": [],
   "source": [
    "# 数值类型有四种\n",
    "# int（整数型）、bool（布尔型）、float（浮点型）、complex（复数型）\n",
    "# 布尔型 True和False，True==1; False==0。"
   ]
  },
  {
   "cell_type": "markdown",
   "id": "ac0eaea7-f97d-4469-8f0c-59e44d94090a",
   "metadata": {},
   "source": [
    "## 2. 字符串 str"
   ]
  },
  {
   "cell_type": "code",
   "execution_count": null,
   "id": "27c142a6-db83-430f-b5bb-791e35fd9592",
   "metadata": {},
   "outputs": [],
   "source": [
    "# 声明字符串\n",
    "a = 'aaaa'\n",
    "b = \"bbbb\"\n",
    "\n",
    "# 转义字符\n",
    "print(\"hello, 'world\")\n",
    "print(\"hello, \\\"world\")\n",
    "\n",
    "\n",
    "# 字符串截取\n",
    "a = 'hello, world'\n",
    "print(a[0:1])"
   ]
  },
  {
   "cell_type": "code",
   "execution_count": null,
   "id": "75f98c62",
   "metadata": {},
   "outputs": [],
   "source": [
    "## 字符串内置方法\n",
    "# | 分类  | 语法                                | 功能                                                         |\n",
    "# | -------- | ----------------------------------- | ------------------------------------------------------------ |\n",
    "# | 大小写   | str.title()                         | 所有单词首个字符大写，其余为小写                             |\n",
    "# | 大小写   | str.capitalize()                    | 整个字符串首个字符大写，其余为小写                           |\n",
    "# | 大小写   | str.lower()                         | 所有大写字符转换为小写                                       |\n",
    "# | 大小写   | str.upper()                         | 所有小写字符转换为大写                                       |\n",
    "# | 大小写   | str.swapcase()                      | 大小写转换                                                   |\n",
    "# | 大小写   | str.istitle()                       | 判断是否为标题。如是，则返回True                             |\n",
    "# | 大小写   | str.isupper()                       | 判断是否为大写。如是，则返回True                             |\n",
    "# | 大小写   | str.islower()                       | 判断是否为小写。如是，则返回True                             |\n",
    "# | 查找索引 | str.find(sub[, start[, end]])       | 返回子串sub在串str或切片内最小索引，返回所在最小（首次出现）位置，无则返回-1 |\n",
    "# | 查找索引 | str.rfind(sub[, start[, end]])      | 返回子串sub在串str或切片内最大索引。即确认sub所在最右位置    |\n",
    "# | 查找索引 | str.index(sub[, start[, end]])      | 返回子串sub在串str或切片内最小索引。类似于find(),但查不到会报错 |\n",
    "# | 查找索引 | str.rindex(sub[,start[,end]])       | 返回子串sub在串str或切片内最大索引。类似于rfind()            |\n",
    "# | 判断开头 | str.startswith(sub[, start[, end]]) | 判断串str是否以指定子串sub开头。如是，则返回True             |\n",
    "# | 判断结尾 | str.endswith(sub[, start[, end]])   | 判断串str是否以指定子串sub结尾。如是，则返回True             |\n",
    "# | 删除     | str.strip([chars])                  | 删除字符串左边和右边的空格或指定字符。可选参数chars即空格    |\n",
    "# | 删除     | str.lstrip([chars])                 | 删除字符串左边的空格或指定字符。可选参数chars默认为空格      |\n",
    "# | 删除     | str.rstrip([chars])                 | 删除字符串右边的空格或指定字符。可选参数chars默认为空格      |\n",
    "# | 拆分     | str.split(sep=None, maxsplit=m))    | 从左边以sep作分隔字符串进行m次拆分。sep无，则分隔符为空字符串 |\n",
    "# | 拆分     | str.rsplit(sep=None, maxsplit=m)    | 从右边以sep作分隔字符串进行m次拆分。sep无，则分隔符为空字符串 |\n",
    "# | 合并多行 | str.splitlines([keepends])          | 按照行('\\r', '\\r\\n', \\n')分隔。返回一个包含各行作为元素的**列表**。keepends为False，不含换行符；为True，保留换行符 |\n",
    "# | 拼接     | str.join(iterable)                  | str为分隔符，返回iterable拼接成的字符串。iterable中元素都为字符串 |\n",
    "# | 居中     | str.center(width[, fillchar])       | 返回原字符串居中，且填充至长度 width 的新字符串。str.center(20, '*') |\n",
    "# | 计数     | str.count(sub[, start[, end]])      | 返回子串sub在串str或切片中出现次数。可选参数[start,end]表切片 |\n",
    "# | 替换     | str.replace(old,new[,count])        | 将old替换为new，替换前count次出现。可选参数count无即全替换   |\n",
    "# | 格式化   | str.format(*args, **kwargs)         | 字符串格式化                                                 |"
   ]
  },
  {
   "cell_type": "markdown",
   "id": "48ccae9c-6bc2-4ef7-9d6a-eadb7f2fdddf",
   "metadata": {},
   "source": [
    "## 3. 列表 list"
   ]
  },
  {
   "cell_type": "code",
   "execution_count": null,
   "id": "01a5bcf0-da07-42f7-a110-3a7fc1899a58",
   "metadata": {},
   "outputs": [],
   "source": [
    "# list: 可以容纳任意类型和数量的对象。\n",
    "\n",
    "# 声明列表\n",
    "l = ['a', 'b', 'c', 'd', 'e', 'f', 'g']\n",
    "\n",
    "# 列表长度\n",
    "print(len(l))\n",
    "\n",
    "# 列表截取\n",
    "print(l[0: ])\n",
    "print(l[-3:])\n",
    "\n",
    "# list.pop() 返回该元素的值\n",
    "print(l.pop(0))\n",
    "print(l)\n",
    "\n",
    "# list.append() 向list中追加一个元素\n",
    "l.append('zzzz')\n",
    "print(l)"
   ]
  },
  {
   "cell_type": "code",
   "execution_count": null,
   "id": "f7034aae",
   "metadata": {},
   "outputs": [],
   "source": [
    "# # 列表内置函数\n",
    "# | 分类   | 语法            | 功能                          |\n",
    "# | ------ | --------------- | ----------------------------- |\n",
    "# | 长度   | len(list)       | 返回列表元素个数              |\n",
    "# | 最大值 | max(list)       | 返回列表元素中的最大值        |\n",
    "# | 最小值 | min(list)       | 返回列表元素中的最小值        |\n",
    "# | 转换   | list(tuple)     | 将元组转换为列表              |\n",
    "# | 删除   | del list[i:j:k] | 从列表中移除list[i:j:k]的元素 |\n",
    "\n",
    "\n",
    "# # 列表内置方法\n",
    "# | 分类 | 语法                                        | 功能                                                         |\n",
    "# | ------- | ------------------------------------------- | ------------------------------------------------------------ |\n",
    "# | 排序    | list.reverse()                              | 将list中元素逆序排序                                         |\n",
    "# | 排序    | list.sort(key=None, reverse=False)          | 将list中元素排序                                             |\n",
    "# | 添加    | list.append(obj) 不能写l = list.append(obj) | 在列表末尾添加新的对象，对象作为一个整体被添加进list         |\n",
    "# | 扩展    | list.extend(seq)或list += seq               | 在列表末尾一次性追加另一个序列中的多个值（用新列表扩展原来的列表） |\n",
    "# | 插入    | list.insert(index, obj)                     | 在索引位置index处插入obj，即list[index:index] = [obj]        |\n",
    "# | 查找    | list.index(x[, start[, end]])               | 从列表中找出某个值第一个匹配项的索引位置                     |\n",
    "# | 计数    | list.count(obj)                             | 统计某个元素在列表中出现的次数                               |\n",
    "# | 删除    | list.remove(obj)                            | 移除列表中某个值的第一个匹配项                               |\n",
    "# | 删除    | list.pop([index=-1])                        | 移除列表中的一个元素（默认最后一个元素），返回该元素的值     |"
   ]
  },
  {
   "cell_type": "markdown",
   "id": "ab0cb9e1-6427-4076-939f-c92630cbd9b5",
   "metadata": {},
   "source": [
    "## 4. 元组 tuple"
   ]
  },
  {
   "cell_type": "code",
   "execution_count": null,
   "id": "1c43b612-d122-4183-9862-1b945ccea728",
   "metadata": {},
   "outputs": [],
   "source": [
    "# 元组：元组与列表类似，可以容纳任意类型和数量的对象。\n",
    "# 不同之处在于，元组中的元素不能修改（元组中存储的对象及其自身是可变的），这样使代码更安全。可以访问，但不能修改。\n",
    "\n",
    "# 声明元组\n",
    "a = ('a', 'b', 'c', 'd', 'e', 'f', 'g')\n",
    "\n",
    "# 元组截取\n",
    "print(a[0: 3])\n",
    "\n",
    "# 元组中只包含一个元素时，需要在元素后添加逗号。如tup1 = (10,)。\n",
    "\n",
    "a = (10, )\n",
    "type(a)"
   ]
  },
  {
   "cell_type": "code",
   "execution_count": null,
   "id": "062151dd",
   "metadata": {},
   "outputs": [],
   "source": [
    "# # 元组内置函数\n",
    "# | 分类   | 语法        | 功能                                       |\n",
    "# | ------ | ----------- | ------------------------------------------ |\n",
    "# | 长度   | len(tuple)  | 返回元组元素个数                           |\n",
    "# | 最大值 | max(tuple)  | 返回元组元素中的最大值                     |\n",
    "# | 最小值 | min(tuple)  | 返回元组元素中的最小值                     |\n",
    "# | 转换   | tuple(list) | 将列表转换为元组                           |\n",
    "# | 删除   | del tuple   | 不允许删除元组中的元素，但可以删除整个元组 |\n",
    "\n",
    "\n",
    "# # 元组内置方法\n",
    "# | 分类    | 语法                           | 功能                                     |\n",
    "# | ------- | ------------------------------ | ---------------------------------------- |\n",
    "# | 查找    | tuple.index(x[, start[, end]]) | 从元组中找出某个值第一个匹配项的索引位置 |\n",
    "# | 计数    | tuple.count(obj)               | 统计某个元素在元组中出现的次数           |"
   ]
  },
  {
   "cell_type": "markdown",
   "id": "fd720774-11b3-4531-9ddc-25e56ea7bc4a",
   "metadata": {
    "tags": []
   },
   "source": [
    "## 5. 字典 dict"
   ]
  },
  {
   "cell_type": "code",
   "execution_count": null,
   "id": "35c5a5e6-d850-43b6-9614-96d6977d6b6c",
   "metadata": {},
   "outputs": [],
   "source": [
    "# 字典：键值对的集合，也叫哈希表或关联数组。\n",
    "# 键必须是不可变的对象，列表不可以。键是唯一的，如果有重复则最后一个键值对会替换前面的。\n",
    "# 值可以是任意类型。通过hash()函数可以检查一个对象是否可以哈希化（即是否可以用作字典的键）\n",
    "\n",
    "# 声明字典\n",
    "d = {'key1': 'value1', 'key2': 'value2', }\n",
    "d = dict(key1='a', key2='b')\n",
    "\n",
    "# 字典的键、值\n",
    "d = {'English': 99, 'Math': 67, 'Chemistry': 67}\n",
    "d.keys()\n",
    "d.values()\n",
    "d.get('English')\n",
    "d['English']"
   ]
  },
  {
   "cell_type": "code",
   "execution_count": null,
   "id": "f836201a",
   "metadata": {},
   "outputs": [],
   "source": [
    "# # 字典内置函数\n",
    "# | 分类 | 语法              | 功能                       |\n",
    "# | ---- | ----------------- | -------------------------- |\n",
    "# | 长度 | len(dict)         | 返回字典的元素个数         |\n",
    "# | 转换 | str(dict)         | 将字段转换为可打印的字符串 |\n",
    "# | 类型 | type(dict)        | 返回输入的变量类型         |\n",
    "\n",
    "\n",
    "## 字典内置方法\n",
    "# | 分类   | 语法                               | 功能                                                         |\n",
    "# | ------ | ---------------------------------- | ------------------------------------------------------------ |\n",
    "# | 获取   | dict.items()                       | 返回键和值的迭代器                                           |\n",
    "# | 获取   | dict.keys()                        | 返回键的迭代器                                               |\n",
    "# | 获取   | dict.values()                      | 返回值的迭代器                                               |\n",
    "# | 获取   | dict.get(key[, value])             | 返回指定键key的值，键中无key则返回设置的default值            |\n",
    "# | 获取   | dict.setdefault(key, default=None) | 返回指定键key的值，与dict.get(key,default)类似               |\n",
    "# | 增改   | dict[k1] = v1                      | 修改或新增键值对。如k1在d1中已存在则为修改，不存在则为新增   |\n",
    "# | 删除   | dict.popitem()                     | 删除并返回最后一个键值对，如果字典为空，则抛出KeyError异常。 |\n",
    "# | 删除   | dict.pop(key[,default])            | 删除键值对，返回值为被删除的值。                             |\n",
    "# | 删除   | del dict[key1]                     | 删除键值对，与dict.pop()类似，但是没有返回值。               |\n",
    "# | 删除   | dict.clear()                       | 删除字典内所有元素，没有任何返回值                           |\n",
    "# | 删除   | del dict                           | 删除字典dict                                                 |\n",
    "# | 更新   | dict.update(dict2)                 | 将字典dict2的键值对更新进dict，没有任何返回值。              |\n",
    "# | 新字典 | dict.fromkeys(seq[, value])        | 序列seq元素为键，val为值，返回一个新字典。                   |\n",
    "# | 复制   | dict.copy()                        | 一个字典的浅复制                                             |"
   ]
  },
  {
   "cell_type": "markdown",
   "id": "5cda5429-09e3-46fb-8fc6-08c0f703f585",
   "metadata": {},
   "source": [
    "## 6. 集合 set"
   ]
  },
  {
   "cell_type": "code",
   "execution_count": null,
   "id": "de77a6d2",
   "metadata": {},
   "outputs": [],
   "source": [
    "# 集合：集合与字典类似，是键 (Key) 的集合，但不存储值 (Value)。"
   ]
  },
  {
   "cell_type": "markdown",
   "id": "dabc4698-9cb0-4e7a-a3c5-99b06bcda0f5",
   "metadata": {
    "tags": []
   },
   "source": [
    "# 三、Python的流程控制"
   ]
  },
  {
   "cell_type": "markdown",
   "id": "e08a7304-84b1-493f-ad45-75e03e015059",
   "metadata": {},
   "source": [
    "## 1. 条件判断"
   ]
  },
  {
   "cell_type": "code",
   "execution_count": null,
   "id": "c74afc9f-e2a2-40bf-bfaa-a9d18b0f9bbf",
   "metadata": {
    "tags": []
   },
   "outputs": [],
   "source": [
    "# 语法\n",
    "# 条件判断可以任意组合：elif可有1到任意多个，else可有可无；可进行嵌套\n",
    "if condition:\n",
    "    do something\n",
    "elif condition:\n",
    "    do something\n",
    "else:\n",
    "    do something"
   ]
  },
  {
   "cell_type": "code",
   "execution_count": null,
   "id": "5b12adbc-0b6d-47e4-b30b-754ad522a5e7",
   "metadata": {
    "tags": []
   },
   "outputs": [],
   "source": [
    "# 实例\n",
    "\n",
    "score_str = input('请输入您的成绩（0-100）：')\n",
    "\n",
    "score = int(score_str)\n",
    "\n",
    "if score >= 0 and score < 60:\n",
    "    print('不及格')\n",
    "elif score >= 60 and score < 70:\n",
    "    print('及格')\n",
    "elif score >= 70 and score < 80:\n",
    "    print('合格')\n",
    "elif score >= 80 and score < 90:\n",
    "    print('良好')\n",
    "elif score >= 90 and score <= 100:\n",
    "    print('优秀！')\n",
    "else:\n",
    "    print('您的数据超出范围！！')"
   ]
  },
  {
   "cell_type": "markdown",
   "id": "a3fb2135-5a31-44bb-99e4-1bc6c43ac8e6",
   "metadata": {},
   "source": [
    "## 2. while循环（条件循环）"
   ]
  },
  {
   "cell_type": "code",
   "execution_count": null,
   "id": "053db006-ab9b-41c4-bb5e-ea745c763213",
   "metadata": {},
   "outputs": [],
   "source": [
    "# 在某条件下，循环执行某段程序，如果判断条件为是真，程序继续运行；如果判断条件为假时，循环结束。\n",
    "\n",
    "while condition：\n",
    "    do something"
   ]
  },
  {
   "cell_type": "code",
   "execution_count": 1,
   "id": "54bb4cec",
   "metadata": {},
   "outputs": [
    {
     "name": "stdout",
     "output_type": "stream",
     "text": [
      "-----------------------------\n",
      "5050\n"
     ]
    }
   ],
   "source": [
    "# 实例\n",
    "\n",
    "# 1-100求和\n",
    "\n",
    "i = 100\n",
    "s = 0\n",
    "\n",
    "while i > 0:\n",
    "    s += i\n",
    "#     print(s)\n",
    "    i -= 1\n",
    "#     print(i)\n",
    "    \n",
    "print('-----------------------------')\n",
    "print(s)"
   ]
  },
  {
   "cell_type": "code",
   "execution_count": null,
   "id": "432b86b9",
   "metadata": {},
   "outputs": [],
   "source": [
    "# 使用 while 循环 时，在某种条件满足的情况下，需要跳过本次循环，继续执行下一次循环。\n",
    "# break: 跳出整个循环，不会再执行循环后续的内容\n",
    "# continue: 跳出本次循环，continue后面的代码不再执行，但是还是会继续循环"
   ]
  },
  {
   "cell_type": "code",
   "execution_count": null,
   "id": "124aa35a",
   "metadata": {},
   "outputs": [],
   "source": [
    "# 实例（使用break）\n",
    "\n",
    "# 当数值大于9时，结束循环\n",
    "\n",
    "n = 0\n",
    "while n <= 100:\n",
    "    if n >= 10: # 当n=10时，条件满足，执行break语句\n",
    "        break # break语句会结束当前循环\n",
    "    print(n)\n",
    "    n += 1"
   ]
  },
  {
   "cell_type": "code",
   "execution_count": null,
   "id": "d9d63640",
   "metadata": {},
   "outputs": [],
   "source": [
    "# 实例（使用continue）\n",
    "\n",
    "# 向一个列表中放入0-20范围内的所有偶数\n",
    "\n",
    "l = []\n",
    "n = 0\n",
    "while n <= 20:\n",
    "    if n % 2 == 1: # # 如果n是奇数，执行continue语句\n",
    "        n += 1\n",
    "        continue # # continue语句会直接继续下一轮循环，后续的l.append()语句不会执行\n",
    "    l.append(n)\n",
    "    n += 1\n",
    "l # [0, 2, 4, 6, 8, 10, 12, 14, 16, 18, 20]"
   ]
  },
  {
   "cell_type": "code",
   "execution_count": 2,
   "id": "980ed6d9-bf62-46bc-a182-cf7a96d05de4",
   "metadata": {},
   "outputs": [
    {
     "name": "stdout",
     "output_type": "stream",
     "text": [
      "20\n",
      "请输入数字：9\n",
      "已使用1次机会 too small\n",
      "请输入数字：0\n",
      "已使用2次机会 too small\n",
      "请输入数字：20\n",
      "已使用3次机会 猜对了\n"
     ]
    }
   ],
   "source": [
    "# 作业\n",
    "\n",
    "# 猜数字\n",
    "# 系统随机生成一个1～100的数字；\n",
    "# 用户共有5次机会猜；\n",
    "# 如果用户猜测数字大于系统给出的数字，打印\"too big\"\n",
    "# 如果用户猜测数字小于系统给出的数字，打印\"too small\"\n",
    "# 如果用户猜测的数字等于系统给出的数字，打印\"猜对了！\"，\n",
    "# 并退出循环\n",
    "\n",
    "\n",
    "import random\n",
    "sys_num = random.randint(1, 100)\n",
    "print(sys_num)\n",
    "\n",
    "# 继续往下写"
   ]
  },
  {
   "cell_type": "markdown",
   "id": "1c5258a5-1639-4293-8e5d-da93042a449e",
   "metadata": {},
   "source": [
    "## 3. for循环（遍历循环）"
   ]
  },
  {
   "cell_type": "code",
   "execution_count": null,
   "id": "834cfe7b-5307-4c17-a9a4-ab171856aac2",
   "metadata": {},
   "outputs": [],
   "source": [
    "# 实例\n",
    "\n",
    "# 1-100求和\n",
    "total = 0\n",
    "for i in range(0, 101):\n",
    "    total += i\n",
    "print(total)"
   ]
  },
  {
   "cell_type": "code",
   "execution_count": 1,
   "id": "83990178",
   "metadata": {},
   "outputs": [
    {
     "name": "stdout",
     "output_type": "stream",
     "text": [
      "1 * 1 = 1  \n",
      "1 * 2 = 2  2 * 2 = 4  \n",
      "1 * 3 = 3  2 * 3 = 6  3 * 3 = 9  \n",
      "1 * 4 = 4  2 * 4 = 8  3 * 4 = 12  4 * 4 = 16  \n",
      "1 * 5 = 5  2 * 5 = 10  3 * 5 = 15  4 * 5 = 20  5 * 5 = 25  \n",
      "1 * 6 = 6  2 * 6 = 12  3 * 6 = 18  4 * 6 = 24  5 * 6 = 30  6 * 6 = 36  \n",
      "1 * 7 = 7  2 * 7 = 14  3 * 7 = 21  4 * 7 = 28  5 * 7 = 35  6 * 7 = 42  7 * 7 = 49  \n",
      "1 * 8 = 8  2 * 8 = 16  3 * 8 = 24  4 * 8 = 32  5 * 8 = 40  6 * 8 = 48  7 * 8 = 56  8 * 8 = 64  \n",
      "1 * 9 = 9  2 * 9 = 18  3 * 9 = 27  4 * 9 = 36  5 * 9 = 45  6 * 9 = 54  7 * 9 = 63  8 * 9 = 72  9 * 9 = 81  \n"
     ]
    }
   ],
   "source": [
    "# 作业\n",
    "\n",
    "# 打印99乘法表\n",
    "# 知识点：print(), for循环\n",
    "\n",
    "# 效果\n",
    "# 1 * 1 = 1   \n",
    "# 1 * 2 = 2   2 * 2 = 4   \n",
    "# 1 * 3 = 3   2 * 3 = 6   3 * 3 = 9   \n",
    "# 1 * 4 = 4   2 * 4 = 8   3 * 4 = 12   4 * 4 = 16   \n",
    "# 1 * 5 = 5   2 * 5 = 10   3 * 5 = 15   4 * 5 = 20   5 * 5 = 25   \n",
    "# 1 * 6 = 6   2 * 6 = 12   3 * 6 = 18   4 * 6 = 24   5 * 6 = 30   6 * 6 = 36   \n",
    "# 1 * 7 = 7   2 * 7 = 14   3 * 7 = 21   4 * 7 = 28   5 * 7 = 35   6 * 7 = 42   7 * 7 = 49   \n",
    "# 1 * 8 = 8   2 * 8 = 16   3 * 8 = 24   4 * 8 = 32   5 * 8 = 40   6 * 8 = 48   7 * 8 = 56   8 * 8 = 64   \n",
    "# 1 * 9 = 9   2 * 9 = 18   3 * 9 = 27   4 * 9 = 36   5 * 9 = 45   6 * 9 = 54   7 * 9 = 63   8 * 9 = 72   9 * 9 = 81   "
   ]
  }
 ],
 "metadata": {
  "celltoolbar": "Raw Cell Format",
  "kernelspec": {
   "display_name": "Python 3.10.7 64-bit",
   "language": "python",
   "name": "python3"
  },
  "language_info": {
   "codemirror_mode": {
    "name": "ipython",
    "version": 3
   },
   "file_extension": ".py",
   "mimetype": "text/x-python",
   "name": "python",
   "nbconvert_exporter": "python",
   "pygments_lexer": "ipython3",
   "version": "3.10.7"
  },
  "vscode": {
   "interpreter": {
    "hash": "657d93d108f8ceb5549d439fcb6f6fe45ca1b06c8b798c25a3c91558a4f1fe36"
   }
  }
 },
 "nbformat": 4,
 "nbformat_minor": 5
}
