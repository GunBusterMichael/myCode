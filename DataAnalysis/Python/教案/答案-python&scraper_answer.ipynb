{
 "cells": [
  {
   "cell_type": "markdown",
   "id": "7f341d5a",
   "metadata": {},
   "source": [
    "## Python作业"
   ]
  },
  {
   "cell_type": "code",
   "execution_count": null,
   "id": "3ac23869",
   "metadata": {},
   "outputs": [],
   "source": [
    "# 作业\n",
    "\n",
    "# 猜数字\n",
    "# 系统随机生成一个1～100的数字；\n",
    "# 用户共有5次机会猜；\n",
    "# 如果用户猜测数字大于系统给出的数字，打印\"too big\"\n",
    "# 如果用户猜测数字小于系统给出的数字，打印\"too small\"\n",
    "# 如果用户猜测的数字等于系统给出的数字，打印\"猜对了！\"，\n",
    "# 并退出循环\n",
    "\n",
    "\n",
    "import random\n",
    "sys_num = random.randint(0, 100) + 1\n",
    "print(sys_num)\n",
    "\n",
    "# 继续往下写\n",
    "cnt = 5\n",
    "\n",
    "while cnt > 0:\n",
    "    guess_num = int(input('请输入数字：'))\n",
    "    if guess_num > sys_num:\n",
    "        print('已使用{}次机会'.format(5 - cnt + 1), 'too big')\n",
    "    elif guess_num < sys_num:\n",
    "        print('已使用{}次机会'.format(5 - cnt + 1), 'too small')\n",
    "    else:\n",
    "        print('已使用{}次机会'.format(5 - cnt + 1), '猜对了')\n",
    "        break\n",
    "    cnt -= 1"
   ]
  },
  {
   "cell_type": "code",
   "execution_count": null,
   "id": "5f23eec4",
   "metadata": {},
   "outputs": [],
   "source": [
    "# 作业\n",
    "\n",
    "# 打印99乘法表\n",
    "# 知识点：print(), for循环\n",
    "\n",
    "# 打印九九乘法表\n",
    "for i in range(1, 10):\n",
    "    for j in range(1, i + 1):\n",
    "        print(j, \"*\", i, '=', j * i, end='  ')\n",
    "    print()\n",
    "\n",
    "# 效果\n",
    "# 1 * 1 = 1   \n",
    "# 1 * 2 = 2   2 * 2 = 4   \n",
    "# 1 * 3 = 3   2 * 3 = 6   3 * 3 = 9   \n",
    "# 1 * 4 = 4   2 * 4 = 8   3 * 4 = 12   4 * 4 = 16   \n",
    "# 1 * 5 = 5   2 * 5 = 10   3 * 5 = 15   4 * 5 = 20   5 * 5 = 25   \n",
    "# 1 * 6 = 6   2 * 6 = 12   3 * 6 = 18   4 * 6 = 24   5 * 6 = 30   6 * 6 = 36   \n",
    "# 1 * 7 = 7   2 * 7 = 14   3 * 7 = 21   4 * 7 = 28   5 * 7 = 35   6 * 7 = 42   7 * 7 = 49   \n",
    "# 1 * 8 = 8   2 * 8 = 16   3 * 8 = 24   4 * 8 = 32   5 * 8 = 40   6 * 8 = 48   7 * 8 = 56   8 * 8 = 64   \n",
    "# 1 * 9 = 9   2 * 9 = 18   3 * 9 = 27   4 * 9 = 36   5 * 9 = 45   6 * 9 = 54   7 * 9 = 63   8 * 9 = 72   9 * 9 = 81   "
   ]
  },
  {
   "cell_type": "code",
   "execution_count": null,
   "id": "0aac4515",
   "metadata": {},
   "outputs": [],
   "source": [
    "import pandas as pd\n",
    "import numpy as np\n",
    "\n",
    "# 设置文件路径\n",
    "file_name = r'./超级简历过去半年用户行为信息.xlsx'\n",
    "\n",
    "# 把三个sheet数据合并起来\n",
    "df_dict = pd.read_excel(file_name, sheet_name=None)\n",
    "\n",
    "df_all = pd.DataFrame() # 创建二维数组\n",
    "\n",
    "for i in df_dict.keys():\n",
    "    df = pd.read_excel(file_name, sheet_name=i)\n",
    "    \n",
    "    df_all = pd.concat([df, df_all], axis=0)\n",
    "    \n",
    "\n",
    "# 1. 筛选出毕业时间为2023年的同学\n",
    "df_all[df_all['毕业时间'] == '2023年']\n",
    "\n",
    "# 2. 自学索引 loc iloc相关知识，筛选出毕业时间为2020年 且 意向岗位为产品的学生\n",
    "df_all.loc[(df_all['毕业时间'] == '2020年') & (df_all['意向岗位'] == '产品'), ]\n",
    "\n",
    "# 3. 重新生成一列姓名，把姓名中的同学两字去掉，查看新生成的姓名的类型，并将其转换为另一种类型\n",
    "df_all['姓名1'] = df_all['姓名'].str.replace('同学', '').astype('int')\n",
    "\n",
    "# 4. 将未付费学生的付费金额、付费次数，填充为0，并统计不同学历学生的付费总金额\n",
    "df_all['单次付费金额'] = df_all['单次付费金额'].fillna(value=0)\n",
    "df_all['付款次数'] = df_all['付款次数'].fillna(value=0)\n",
    "df_all['付费总金额'] = df_all['单次付费金额'] * df_all['付款次数']\n",
    "df_all.groupby(by=['最高学历'])[['付费总金额']].sum().reset_index()"
   ]
  },
  {
   "cell_type": "markdown",
   "id": "aaac1b38",
   "metadata": {},
   "source": [
    "## 爬虫作业"
   ]
  },
  {
   "cell_type": "code",
   "execution_count": null,
   "id": "41b4aa8f",
   "metadata": {},
   "outputs": [],
   "source": [
    "# 在create new sitemap下，找到Import sitemap，将下面的代码复制到Sitemap JSON中，Rename Sitemap可不填写\n",
    "# 然后点击Import Sitemap，即可将老师准备好的爬虫文件导入进来，然后直接运行，获取正确的数据。\n",
    "# 同学们可以对比自己与老师的区别。\n",
    "\n",
    "{\"_id\":\"douban\",\"startUrl\":[\"https://book.douban.com/latest?subcat=%E5%85%A8%E9%83%A8&p=1\"],\"selectors\":[{\"id\":\"container\",\"parentSelectors\":[\"_root\",\"link\"],\"type\":\"SelectorElement\",\"selector\":\"li.media\",\"multiple\":true},{\"id\":\"link\",\"parentSelectors\":[\"_root\",\"link\"],\"type\":\"SelectorLink\",\"selector\":\".paginator > a\",\"multiple\":true},{\"id\":\"book_link\",\"parentSelectors\":[\"container\"],\"type\":\"SelectorLink\",\"selector\":\"a.fleft\",\"multiple\":false},{\"id\":\"rate\",\"parentSelectors\":[\"container\"],\"type\":\"SelectorText\",\"selector\":\"span.allstar00\",\"multiple\":false,\"regex\":\"\"},{\"id\":\"anthor\",\"parentSelectors\":[\"book_link\"],\"type\":\"SelectorText\",\"selector\":\"#info span:nth-of-type(1) a\",\"multiple\":false,\"regex\":\"\"},{\"id\":\"description\",\"parentSelectors\":[\"book_link\"],\"type\":\"SelectorText\",\"selector\":\".short div\",\"multiple\":false,\"regex\":\"\"}]}"
   ]
  },
  {
   "cell_type": "code",
   "execution_count": null,
   "id": "1b39281a",
   "metadata": {},
   "outputs": [],
   "source": []
  }
 ],
 "metadata": {
  "kernelspec": {
   "display_name": "Python 3 (ipykernel)",
   "language": "python",
   "name": "python3"
  },
  "language_info": {
   "codemirror_mode": {
    "name": "ipython",
    "version": 3
   },
   "file_extension": ".py",
   "mimetype": "text/x-python",
   "name": "python",
   "nbconvert_exporter": "python",
   "pygments_lexer": "ipython3",
   "version": "3.9.12"
  }
 },
 "nbformat": 4,
 "nbformat_minor": 5
}
