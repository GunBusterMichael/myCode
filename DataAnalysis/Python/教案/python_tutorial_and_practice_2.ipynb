{
 "cells": [
  {
   "cell_type": "markdown",
   "id": "c65570b1-eece-43d9-8165-4094d42bf4f1",
   "metadata": {},
   "source": [
    "# 一、数据分析包 (numpy)"
   ]
  },
  {
   "cell_type": "code",
   "execution_count": 4,
   "id": "5698815d",
   "metadata": {},
   "outputs": [
    {
     "name": "stdout",
     "output_type": "stream",
     "text": [
      "[ 0  1  2  3  4  5  6  7  8  9 10 11 12 13 14]\n",
      "<class 'numpy.ndarray'>\n",
      "1\n",
      "[ 0  1  2  3  4  5  6  7  8  9 10 11 12 13 14]\n",
      "<class 'numpy.ndarray'>\n",
      "1\n",
      "[[ 0  1  2  3  4]\n",
      " [ 5  6  7  8  9]\n",
      " [10 11 12 13 14]]\n",
      "<class 'numpy.ndarray'>\n",
      "2\n",
      "2\n",
      "105\n",
      "7.0\n",
      "4.320493798938574\n",
      "[[ 0  1  2  3  4]\n",
      " [ 5  6  7  8  9]\n",
      " [10 11 12 13 14]]\n",
      "[[ 0  2  4  6  8]\n",
      " [10 12 14 16 18]\n",
      " [20 22 24 26 28]]\n",
      "[[ 1  2  3  4  5]\n",
      " [ 6  7  8  9 10]\n",
      " [11 12 13 14 15]]\n"
     ]
    }
   ],
   "source": [
    "import numpy as np\n",
    "\n",
    "# 创建数组 ndarray\n",
    "\n",
    "a = np.arange(15)\n",
    "b = np.array([0, 1, 2, 3, 4, 5, 6, 7, 8, 9, 10, 11, 12, 13, 14])\n",
    "\n",
    "print(a, type(a), sep='\\n')\n",
    "print(a.ndim)\n",
    "\n",
    "print(b, type(b), sep='\\n')\n",
    "print(b.ndim)\n",
    "\n",
    "\n",
    "# 创建多维数组 ndarray.reshape\n",
    "\n",
    "a = a.reshape(3, 5)\n",
    "b = b.reshape(3, 5)\n",
    "\n",
    "print(a, type(a), sep='\\n')\n",
    "print(a.ndim)\n",
    "\n",
    "\n",
    "# 查看数组维度 ndarray.ndim\n",
    "\n",
    "print(a.ndim)\n",
    "\n",
    "\n",
    "# 数组的切片\n",
    "\n",
    "a[0]\n",
    "a[0][0]\n",
    "a[0:2]\n",
    "\n",
    "\n",
    "# 数组聚合运算\n",
    "\n",
    "print(a.sum())\n",
    "print(a.mean())\n",
    "print(a.std())\n",
    "\n",
    "\n",
    "# 向量化运算\n",
    "\n",
    "print(a)\n",
    "print(a * 2)\n",
    "print(a + 1)"
   ]
  },
  {
   "cell_type": "markdown",
   "id": "52045182",
   "metadata": {},
   "source": [
    "# 二、数据分析包 (Pandas)\n",
    "\n",
    "## 1. 导入数据分析相关包"
   ]
  },
  {
   "cell_type": "code",
   "execution_count": 5,
   "id": "11ded540-6485-4557-a2cd-79fe757820dd",
   "metadata": {},
   "outputs": [],
   "source": [
    "import pandas as pd\n",
    "import numpy as np"
   ]
  },
  {
   "cell_type": "markdown",
   "id": "55e34969",
   "metadata": {},
   "source": [
    "## 2. 导入数据"
   ]
  },
  {
   "cell_type": "code",
   "execution_count": 6,
   "id": "08abc3b9-f305-4edb-b91a-6d9325d1c7d4",
   "metadata": {},
   "outputs": [
    {
     "ename": "FileNotFoundError",
     "evalue": "[Errno 2] No such file or directory: './超级简历过去半年用户行为信息.xlsx'",
     "output_type": "error",
     "traceback": [
      "\u001b[1;31m---------------------------------------------------------------------------\u001b[0m",
      "\u001b[1;31mFileNotFoundError\u001b[0m                         Traceback (most recent call last)",
      "\u001b[1;32m~\\AppData\\Local\\Temp\\ipykernel_17968\\1237947623.py\u001b[0m in \u001b[0;36m<module>\u001b[1;34m\u001b[0m\n\u001b[0;32m      3\u001b[0m \u001b[1;33m\u001b[0m\u001b[0m\n\u001b[0;32m      4\u001b[0m \u001b[1;31m# 读取文件，设置\u001b[0m\u001b[1;33m\u001b[0m\u001b[1;33m\u001b[0m\u001b[0m\n\u001b[1;32m----> 5\u001b[1;33m \u001b[0mdf\u001b[0m \u001b[1;33m=\u001b[0m \u001b[0mpd\u001b[0m\u001b[1;33m.\u001b[0m\u001b[0mread_excel\u001b[0m\u001b[1;33m(\u001b[0m\u001b[0mfile_name\u001b[0m\u001b[1;33m,\u001b[0m \u001b[0msheet_name\u001b[0m\u001b[1;33m=\u001b[0m\u001b[1;34m'Sheet1'\u001b[0m\u001b[1;33m)\u001b[0m\u001b[1;33m\u001b[0m\u001b[1;33m\u001b[0m\u001b[0m\n\u001b[0m\u001b[0;32m      6\u001b[0m \u001b[1;33m\u001b[0m\u001b[0m\n\u001b[0;32m      7\u001b[0m \u001b[0mdf\u001b[0m\u001b[1;33m\u001b[0m\u001b[1;33m\u001b[0m\u001b[0m\n",
      "\u001b[1;32md:\\anaconda3\\lib\\site-packages\\pandas\\util\\_decorators.py\u001b[0m in \u001b[0;36mwrapper\u001b[1;34m(*args, **kwargs)\u001b[0m\n\u001b[0;32m    309\u001b[0m                     \u001b[0mstacklevel\u001b[0m\u001b[1;33m=\u001b[0m\u001b[0mstacklevel\u001b[0m\u001b[1;33m,\u001b[0m\u001b[1;33m\u001b[0m\u001b[1;33m\u001b[0m\u001b[0m\n\u001b[0;32m    310\u001b[0m                 )\n\u001b[1;32m--> 311\u001b[1;33m             \u001b[1;32mreturn\u001b[0m \u001b[0mfunc\u001b[0m\u001b[1;33m(\u001b[0m\u001b[1;33m*\u001b[0m\u001b[0margs\u001b[0m\u001b[1;33m,\u001b[0m \u001b[1;33m**\u001b[0m\u001b[0mkwargs\u001b[0m\u001b[1;33m)\u001b[0m\u001b[1;33m\u001b[0m\u001b[1;33m\u001b[0m\u001b[0m\n\u001b[0m\u001b[0;32m    312\u001b[0m \u001b[1;33m\u001b[0m\u001b[0m\n\u001b[0;32m    313\u001b[0m         \u001b[1;32mreturn\u001b[0m \u001b[0mwrapper\u001b[0m\u001b[1;33m\u001b[0m\u001b[1;33m\u001b[0m\u001b[0m\n",
      "\u001b[1;32md:\\anaconda3\\lib\\site-packages\\pandas\\io\\excel\\_base.py\u001b[0m in \u001b[0;36mread_excel\u001b[1;34m(io, sheet_name, header, names, index_col, usecols, squeeze, dtype, engine, converters, true_values, false_values, skiprows, nrows, na_values, keep_default_na, na_filter, verbose, parse_dates, date_parser, thousands, decimal, comment, skipfooter, convert_float, mangle_dupe_cols, storage_options)\u001b[0m\n\u001b[0;32m    455\u001b[0m     \u001b[1;32mif\u001b[0m \u001b[1;32mnot\u001b[0m \u001b[0misinstance\u001b[0m\u001b[1;33m(\u001b[0m\u001b[0mio\u001b[0m\u001b[1;33m,\u001b[0m \u001b[0mExcelFile\u001b[0m\u001b[1;33m)\u001b[0m\u001b[1;33m:\u001b[0m\u001b[1;33m\u001b[0m\u001b[1;33m\u001b[0m\u001b[0m\n\u001b[0;32m    456\u001b[0m         \u001b[0mshould_close\u001b[0m \u001b[1;33m=\u001b[0m \u001b[1;32mTrue\u001b[0m\u001b[1;33m\u001b[0m\u001b[1;33m\u001b[0m\u001b[0m\n\u001b[1;32m--> 457\u001b[1;33m         \u001b[0mio\u001b[0m \u001b[1;33m=\u001b[0m \u001b[0mExcelFile\u001b[0m\u001b[1;33m(\u001b[0m\u001b[0mio\u001b[0m\u001b[1;33m,\u001b[0m \u001b[0mstorage_options\u001b[0m\u001b[1;33m=\u001b[0m\u001b[0mstorage_options\u001b[0m\u001b[1;33m,\u001b[0m \u001b[0mengine\u001b[0m\u001b[1;33m=\u001b[0m\u001b[0mengine\u001b[0m\u001b[1;33m)\u001b[0m\u001b[1;33m\u001b[0m\u001b[1;33m\u001b[0m\u001b[0m\n\u001b[0m\u001b[0;32m    458\u001b[0m     \u001b[1;32melif\u001b[0m \u001b[0mengine\u001b[0m \u001b[1;32mand\u001b[0m \u001b[0mengine\u001b[0m \u001b[1;33m!=\u001b[0m \u001b[0mio\u001b[0m\u001b[1;33m.\u001b[0m\u001b[0mengine\u001b[0m\u001b[1;33m:\u001b[0m\u001b[1;33m\u001b[0m\u001b[1;33m\u001b[0m\u001b[0m\n\u001b[0;32m    459\u001b[0m         raise ValueError(\n",
      "\u001b[1;32md:\\anaconda3\\lib\\site-packages\\pandas\\io\\excel\\_base.py\u001b[0m in \u001b[0;36m__init__\u001b[1;34m(self, path_or_buffer, engine, storage_options)\u001b[0m\n\u001b[0;32m   1374\u001b[0m                 \u001b[0mext\u001b[0m \u001b[1;33m=\u001b[0m \u001b[1;34m\"xls\"\u001b[0m\u001b[1;33m\u001b[0m\u001b[1;33m\u001b[0m\u001b[0m\n\u001b[0;32m   1375\u001b[0m             \u001b[1;32melse\u001b[0m\u001b[1;33m:\u001b[0m\u001b[1;33m\u001b[0m\u001b[1;33m\u001b[0m\u001b[0m\n\u001b[1;32m-> 1376\u001b[1;33m                 ext = inspect_excel_format(\n\u001b[0m\u001b[0;32m   1377\u001b[0m                     \u001b[0mcontent_or_path\u001b[0m\u001b[1;33m=\u001b[0m\u001b[0mpath_or_buffer\u001b[0m\u001b[1;33m,\u001b[0m \u001b[0mstorage_options\u001b[0m\u001b[1;33m=\u001b[0m\u001b[0mstorage_options\u001b[0m\u001b[1;33m\u001b[0m\u001b[1;33m\u001b[0m\u001b[0m\n\u001b[0;32m   1378\u001b[0m                 )\n",
      "\u001b[1;32md:\\anaconda3\\lib\\site-packages\\pandas\\io\\excel\\_base.py\u001b[0m in \u001b[0;36minspect_excel_format\u001b[1;34m(content_or_path, storage_options)\u001b[0m\n\u001b[0;32m   1248\u001b[0m         \u001b[0mcontent_or_path\u001b[0m \u001b[1;33m=\u001b[0m \u001b[0mBytesIO\u001b[0m\u001b[1;33m(\u001b[0m\u001b[0mcontent_or_path\u001b[0m\u001b[1;33m)\u001b[0m\u001b[1;33m\u001b[0m\u001b[1;33m\u001b[0m\u001b[0m\n\u001b[0;32m   1249\u001b[0m \u001b[1;33m\u001b[0m\u001b[0m\n\u001b[1;32m-> 1250\u001b[1;33m     with get_handle(\n\u001b[0m\u001b[0;32m   1251\u001b[0m         \u001b[0mcontent_or_path\u001b[0m\u001b[1;33m,\u001b[0m \u001b[1;34m\"rb\"\u001b[0m\u001b[1;33m,\u001b[0m \u001b[0mstorage_options\u001b[0m\u001b[1;33m=\u001b[0m\u001b[0mstorage_options\u001b[0m\u001b[1;33m,\u001b[0m \u001b[0mis_text\u001b[0m\u001b[1;33m=\u001b[0m\u001b[1;32mFalse\u001b[0m\u001b[1;33m\u001b[0m\u001b[1;33m\u001b[0m\u001b[0m\n\u001b[0;32m   1252\u001b[0m     ) as handle:\n",
      "\u001b[1;32md:\\anaconda3\\lib\\site-packages\\pandas\\io\\common.py\u001b[0m in \u001b[0;36mget_handle\u001b[1;34m(path_or_buf, mode, encoding, compression, memory_map, is_text, errors, storage_options)\u001b[0m\n\u001b[0;32m    793\u001b[0m         \u001b[1;32melse\u001b[0m\u001b[1;33m:\u001b[0m\u001b[1;33m\u001b[0m\u001b[1;33m\u001b[0m\u001b[0m\n\u001b[0;32m    794\u001b[0m             \u001b[1;31m# Binary mode\u001b[0m\u001b[1;33m\u001b[0m\u001b[1;33m\u001b[0m\u001b[0m\n\u001b[1;32m--> 795\u001b[1;33m             \u001b[0mhandle\u001b[0m \u001b[1;33m=\u001b[0m \u001b[0mopen\u001b[0m\u001b[1;33m(\u001b[0m\u001b[0mhandle\u001b[0m\u001b[1;33m,\u001b[0m \u001b[0mioargs\u001b[0m\u001b[1;33m.\u001b[0m\u001b[0mmode\u001b[0m\u001b[1;33m)\u001b[0m\u001b[1;33m\u001b[0m\u001b[1;33m\u001b[0m\u001b[0m\n\u001b[0m\u001b[0;32m    796\u001b[0m         \u001b[0mhandles\u001b[0m\u001b[1;33m.\u001b[0m\u001b[0mappend\u001b[0m\u001b[1;33m(\u001b[0m\u001b[0mhandle\u001b[0m\u001b[1;33m)\u001b[0m\u001b[1;33m\u001b[0m\u001b[1;33m\u001b[0m\u001b[0m\n\u001b[0;32m    797\u001b[0m \u001b[1;33m\u001b[0m\u001b[0m\n",
      "\u001b[1;31mFileNotFoundError\u001b[0m: [Errno 2] No such file or directory: './超级简历过去半年用户行为信息.xlsx'"
     ]
    }
   ],
   "source": [
    "# 设置文件路径\n",
    "file_name = r'./超级简历过去半年用户行为信息.xlsx'\n",
    "\n",
    "# 读取文件，设置\n",
    "df = pd.read_excel(file_name, sheet_name='Sheet1')\n",
    "\n",
    "df"
   ]
  },
  {
   "cell_type": "code",
   "execution_count": null,
   "id": "1de8da48",
   "metadata": {},
   "outputs": [],
   "source": [
    "# # 数据导入的方式\n",
    "# file_name = './file_name.xlsx'\n",
    "# pd.DataFrame()\n",
    "# pd.read_csv(file_name) # 从CSV⽂件导⼊数据\n",
    "# pd.read_table(file_name) # 从限定分隔符的⽂本⽂件导⼊数据\n",
    "# pd.read_excel(file_name) # 从Excel⽂件导⼊数据\n",
    "# pd.read_sql(query, connection_object) # 从SQL表/库导⼊数据\n",
    "# pd.read_json(json_string) # 从JSON格式的字符串导⼊数据\n",
    "# pd.read_html(url) # 解析URL、字符串或者HTML⽂件，抽取其中的tables表格"
   ]
  },
  {
   "cell_type": "markdown",
   "id": "c0e29bbc",
   "metadata": {},
   "source": [
    "## 3. 数据整体查看"
   ]
  },
  {
   "cell_type": "code",
   "execution_count": null,
   "id": "a3c10614",
   "metadata": {},
   "outputs": [],
   "source": [
    "df.head(5)\n",
    "\n",
    "df.tail(5)\n",
    "\n",
    "df.columns\n",
    "\n",
    "# df.info()\n",
    "\n",
    "df.describe()\n",
    "\n",
    "df.shape\n",
    "\n",
    "\n",
    "type(df)\n",
    "\n",
    "df['姓名']\n",
    "type(df['姓名'])\n",
    "\n",
    "# df.head(5)"
   ]
  },
  {
   "cell_type": "markdown",
   "id": "cd5b36f4",
   "metadata": {},
   "source": [
    "## 4. 多个sheet数据合并"
   ]
  },
  {
   "cell_type": "code",
   "execution_count": null,
   "id": "faca0890",
   "metadata": {},
   "outputs": [],
   "source": [
    "# 把三个sheet数据合并起来\n",
    "\n",
    "df_dict = pd.read_excel(file_name, sheet_name=None)\n",
    "\n",
    "df_dict\n",
    "\n",
    "type(df_dict)"
   ]
  },
  {
   "cell_type": "code",
   "execution_count": null,
   "id": "d5c1b8ea",
   "metadata": {},
   "outputs": [],
   "source": [
    "df_all = pd.DataFrame() # 创建二维数组\n",
    "\n",
    "for i in df_dict.keys():\n",
    "    df = pd.read_excel(file_name, sheet_name=i)\n",
    "    \n",
    "    df_all = pd.concat([df, df_all], axis=0)\n",
    "    \n",
    "df_all\n",
    "\n",
    "df_all.shape\n",
    "\n",
    "df_all.info()"
   ]
  },
  {
   "cell_type": "markdown",
   "id": "06a1e065",
   "metadata": {},
   "source": [
    "## 5. 数据清洗"
   ]
  },
  {
   "cell_type": "code",
   "execution_count": null,
   "id": "ca64aa2a-b2db-4bfb-9607-f68a30dd754f",
   "metadata": {},
   "outputs": [],
   "source": [
    "# 数据填充\n",
    "\n",
    "df_all['单次付费金额'] = df_all['单次付费金额'].fillna(value=0)\n",
    "df_all['单次付费金额'].fillna(value=0, inplace=True)\n",
    "\n",
    "\n",
    "# 数据替换\n",
    "df_all['最高学历'] = df_all['最高学历'].str.replace('/', '')\n",
    "\n",
    "\n",
    "# 数据筛选\n",
    "df_all[df_all['意向城市'] == '北京']\n",
    "\n",
    "# df_all.head(20)"
   ]
  },
  {
   "cell_type": "markdown",
   "id": "582f7f0d",
   "metadata": {},
   "source": [
    "## 6. 数据统计"
   ]
  },
  {
   "cell_type": "code",
   "execution_count": null,
   "id": "1d390f65-9c4f-4253-a1fa-7edc35f53399",
   "metadata": {},
   "outputs": [],
   "source": [
    "# 创建计算字段\n",
    "df_all['单人付费总额'] = df_all['单次付费金额'] * df_all['付款次数']\n",
    "df_all.head(20)\n",
    "\n",
    "\n",
    "# 分组统计\n",
    "# 统计每个学历的人数\n",
    "df_all.groupby(by='最高学历').count()\n",
    "df_all.groupby(by='最高学历')[['姓名']].count()\n",
    "\n",
    "# 描述性统计min(), max(), mean(), median(), std(), count()"
   ]
  },
  {
   "cell_type": "markdown",
   "id": "b3089355",
   "metadata": {},
   "source": [
    "## 7. 数据导出"
   ]
  },
  {
   "cell_type": "code",
   "execution_count": null,
   "id": "a97ea5f2-c0a0-4540-b149-78f4e4861aa3",
   "metadata": {},
   "outputs": [],
   "source": [
    "df_final = df_all[df_all['意向城市'] == '北京']\n",
    "\n",
    "df_final.to_excel('./超级简历过去半年用户行为信息_final.xlsx', sheet_name='final')"
   ]
  },
  {
   "cell_type": "markdown",
   "id": "9d44f36a",
   "metadata": {},
   "source": [
    "## 8. 作业"
   ]
  },
  {
   "cell_type": "code",
   "execution_count": null,
   "id": "edd89dba-1dde-49cc-bda4-88d897d0d074",
   "metadata": {},
   "outputs": [],
   "source": [
    "# 1. 筛选出毕业时间为2023年的同学\n",
    "\n",
    "# 2. 自学索引 loc iloc相关知识，筛选出毕业时间为2020年 且 意向岗位为产品的学生\n",
    "\n",
    "# 3. 重新生成一列姓名，把姓名中的同学两字去掉，查看新生成的姓名的类型，并将其转换为另一种类型\n",
    "\n",
    "# 4. 将未付费学生的付费金额、付费次数，填充为0，并统计不同学历学生的付费总金额"
   ]
  },
  {
   "cell_type": "markdown",
   "id": "55ea9e36-1a6d-4cbf-8e29-c532edbfb705",
   "metadata": {},
   "source": [
    "# 二、数据可视化包 (matplotlib)"
   ]
  },
  {
   "cell_type": "markdown",
   "id": "0100a379",
   "metadata": {},
   "source": [
    "## 1. 基本设置"
   ]
  },
  {
   "cell_type": "code",
   "execution_count": null,
   "id": "968e60e1-e9ef-44b9-9c99-e9df28b2b6dd",
   "metadata": {},
   "outputs": [],
   "source": [
    "# 作图的代码\n",
    "import matplotlib.pyplot as plt\n",
    "from pylab import * # 支持中文\n",
    "\n",
    "# 用来正常显示中文标签\n",
    "plt.rcParams['font.sans-serif'] = ['SimHei']\n",
    "plt.rcParams['font.sans-serif'] = ['Microsoft YaHei'] \n",
    "\n",
    "# 用来正常显示负号\n",
    "plt.rcParams['axes.unicode_minus'] = False"
   ]
  },
  {
   "cell_type": "markdown",
   "id": "164f22c5",
   "metadata": {},
   "source": [
    "## 2. 最高学历人数统计"
   ]
  },
  {
   "cell_type": "code",
   "execution_count": null,
   "id": "056227e9-b256-4c60-bcff-b4a76a29a754",
   "metadata": {},
   "outputs": [],
   "source": [
    "df_all.groupby(by='最高学历')[['姓名']].count()\n",
    "df_for_draw = df_all.groupby(by='最高学历')[['姓名']].count().reset_index()"
   ]
  },
  {
   "cell_type": "markdown",
   "id": "4270e54a",
   "metadata": {},
   "source": [
    "## 3. 画出柱状图"
   ]
  },
  {
   "cell_type": "code",
   "execution_count": null,
   "id": "80a64625",
   "metadata": {
    "scrolled": true
   },
   "outputs": [],
   "source": [
    "# 设置画布\n",
    "# 默认一张画布上有一个图\n",
    "fig, ax = plt.subplots(figsize=(6, 3), dpi=100) # 数值代表整个画面大小为475*230\n",
    "\n",
    "# 一张画布上可以设置6张图\n",
    "# fig, ax = plt.subplots(nrows=2, ncols=3, figsize=(9.5, 4.6), dpi=100)\n",
    "\n",
    "# 柱状图\n",
    "# Axes.bar(x, height, width=0.8, bottom=None, *, align='center', data=None, **kwargs)\n",
    "\n",
    "x = df_for_draw['最高学历'].to_list()\n",
    "y = df_for_draw['姓名'].to_list()\n",
    "ax.bar(x, y)\n",
    "\n",
    "# https://matplotlib.org/stable/index.html"
   ]
  },
  {
   "cell_type": "code",
   "execution_count": null,
   "id": "980b11a4",
   "metadata": {},
   "outputs": [],
   "source": []
  }
 ],
 "metadata": {
  "kernelspec": {
   "display_name": "Python 3.9.13 ('base')",
   "language": "python",
   "name": "python3"
  },
  "language_info": {
   "codemirror_mode": {
    "name": "ipython",
    "version": 3
   },
   "file_extension": ".py",
   "mimetype": "text/x-python",
   "name": "python",
   "nbconvert_exporter": "python",
   "pygments_lexer": "ipython3",
   "version": "3.9.13"
  },
  "vscode": {
   "interpreter": {
    "hash": "49cb93f377a7abe7414b7b0f21fb3017538004a126cf690fb524202736b7fb92"
   }
  }
 },
 "nbformat": 4,
 "nbformat_minor": 5
}
