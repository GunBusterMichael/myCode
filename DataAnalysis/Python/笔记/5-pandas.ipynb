{
 "cells": [
  {
   "cell_type": "markdown",
   "metadata": {},
   "source": [
    "# Pandas"
   ]
  },
  {
   "cell_type": "markdown",
   "metadata": {},
   "source": [
    "## 1. 导入相关包"
   ]
  },
  {
   "cell_type": "code",
   "execution_count": 174,
   "metadata": {},
   "outputs": [],
   "source": [
    "import pandas as pd\n",
    "import numpy as np"
   ]
  },
  {
   "cell_type": "markdown",
   "metadata": {},
   "source": [
    "## 2. 导入数据"
   ]
  },
  {
   "cell_type": "code",
   "execution_count": 175,
   "metadata": {},
   "outputs": [
    {
     "data": {
      "text/plain": [
       "pandas.core.frame.DataFrame"
      ]
     },
     "execution_count": 175,
     "metadata": {},
     "output_type": "execute_result"
    }
   ],
   "source": [
    "# 设置文件路径\n",
    "file_name = r'./超级简历过去半年用户行为信息.xlsx' # r 表示不要将字符串中的 / 当作转义字符\n",
    "\n",
    "# 读取 Excel 文件\n",
    "df = pd.read_excel(file_name, sheet_name='Sheet1') # 第一个参数为文件路径，第二个参数为读取的Sheet名\n",
    "\n",
    "type(df) # df 为二维数组 pandas.core.frame.DataFrame"
   ]
  },
  {
   "cell_type": "code",
   "execution_count": 176,
   "metadata": {},
   "outputs": [],
   "source": [
    "# 数据导入的方式\n",
    "# file_name = './file_name.xlsx'\n",
    "# pd.DataFrame()\n",
    "# pd.read_csv(file_name) # 从CSV⽂件导⼊数据\n",
    "# pd.read_table(file_name) # 从限定分隔符的⽂本⽂件导⼊数据\n",
    "# pd.read_excel(file_name) # 从Excel⽂件导⼊数据\n",
    "# pd.read_sql(query, connection_object) # 从SQL表/库导⼊数据\n",
    "# pd.read_json(json_string) # 从JSON格式的字符串导⼊数据\n",
    "# pd.read_html(url) # 解析URL、字符串或者HTML⽂件，抽取其中的tables表格"
   ]
  },
  {
   "cell_type": "markdown",
   "metadata": {},
   "source": [
    "## 3. 数据整体查看"
   ]
  },
  {
   "cell_type": "code",
   "execution_count": 177,
   "metadata": {},
   "outputs": [
    {
     "name": "stdout",
     "output_type": "stream",
     "text": [
      "<class 'pandas.core.frame.DataFrame'>\n",
      "RangeIndex: 94 entries, 0 to 93\n",
      "Data columns (total 12 columns):\n",
      " #   Column  Non-Null Count  Dtype         \n",
      "---  ------  --------------  -----         \n",
      " 0   姓名      94 non-null     object        \n",
      " 1   毕业时间    94 non-null     object        \n",
      " 2   最高学历    94 non-null     object        \n",
      " 3   学校背景    94 non-null     object        \n",
      " 4   首次付费时间  94 non-null     datetime64[ns]\n",
      " 5   是否付费    94 non-null     object        \n",
      " 6   意向岗位    94 non-null     object        \n",
      " 7   意向城市    94 non-null     object        \n",
      " 8   单次付费金额  65 non-null     float64       \n",
      " 9   付款次数    65 non-null     float64       \n",
      " 10  是否写简历   94 non-null     object        \n",
      " 11  注册时间    94 non-null     datetime64[ns]\n",
      "dtypes: datetime64[ns](2), float64(2), object(8)\n",
      "memory usage: 8.9+ KB\n"
     ]
    },
    {
     "data": {
      "text/plain": [
       "0      同学230\n",
       "1      同学260\n",
       "2      同学275\n",
       "3      同学295\n",
       "4      同学337\n",
       "       ...  \n",
       "89     同学778\n",
       "90     同学867\n",
       "91    同学1026\n",
       "92    同学1027\n",
       "93    同学1028\n",
       "Name: 姓名, Length: 94, dtype: object"
      ]
     },
     "execution_count": 177,
     "metadata": {},
     "output_type": "execute_result"
    }
   ],
   "source": [
    "df.head(5) # 读取数据的前 5 行\n",
    "df.tail(5) # 读取数据的后 5 行\n",
    "df.columns # 读取数据所有列的名字 ['姓名', '毕业时间', '最高学历', '学校背景', '首次付费时间', '是否付费', '意向岗位', '意向城市', '单次付费金额', '付款次数', '是否写简历', '注册时间']\n",
    "df.info() # 展示数据的基本信息\n",
    "df.describe() # 展示数据中数值列的统计数据\n",
    "df.shape # 返回数据表的宽和高 (94, 12)\n",
    "df['姓名'] # 取出“姓名”列，为一维数组"
   ]
  },
  {
   "cell_type": "markdown",
   "metadata": {},
   "source": [
    "## 4. 多个 sheet 合并"
   ]
  },
  {
   "cell_type": "code",
   "execution_count": 178,
   "metadata": {},
   "outputs": [],
   "source": [
    "df_dict = pd.read_excel(file_name, sheet_name=None) # sheet_name=None：读取所有sheet\n",
    "\n",
    "type(df_dict) # 读取所有sheet时，获取的是key为sheet名，value为sheet数据的字典（对象）\n",
    "\n",
    "df_all = pd.DataFrame()  # 创建一个空的二维数组，用于接收合并后的sheet\n",
    "\n",
    "for i in df_dict.keys():\n",
    "    df_single = pd.read_excel(file_name, sheet_name=i)  # 依次读取 df_dict 中的 sheet\n",
    "    df_all = pd.concat([df_all, df_single])  # 合并 sheet"
   ]
  },
  {
   "cell_type": "markdown",
   "metadata": {},
   "source": [
    "## 5. 数据清洗"
   ]
  },
  {
   "cell_type": "markdown",
   "metadata": {},
   "source": [
    "### 5.1 数据填充\n",
    "    将空白数据（NaN）填充为0"
   ]
  },
  {
   "cell_type": "code",
   "execution_count": 179,
   "metadata": {},
   "outputs": [],
   "source": [
    "# 数组.fillna(value=content)\n",
    "# 可以将数组中的空值 NaN 填充为 content\n",
    "df_all['单次付费金额'] = df_all['单次付费金额'].fillna(value=0)\n",
    "df_all['单次付费金额'].fillna(value=0, inplace=True) # inplace=True：将原列替换为填充好的列"
   ]
  },
  {
   "cell_type": "markdown",
   "metadata": {},
   "source": [
    "### 5.2 数据替换\n",
    "    将一个值替换成另一个值"
   ]
  },
  {
   "cell_type": "code",
   "execution_count": 180,
   "metadata": {},
   "outputs": [],
   "source": [
    "# 数组.str.replace('原值', '新值')\n",
    "# 将原值字符串替换为新值字符串\n",
    "df_all['最高学历'] = df_all['最高学历'].str.replace('/', '')"
   ]
  },
  {
   "cell_type": "markdown",
   "metadata": {},
   "source": [
    "### 5.3 数据筛选"
   ]
  },
  {
   "cell_type": "code",
   "execution_count": 181,
   "metadata": {},
   "outputs": [],
   "source": [
    "# 选取意向城市为“北京”的数据\n",
    "# 数组[筛选条件]\n",
    "df_beijing = df_all[df_all['意向城市'] == '北京']"
   ]
  },
  {
   "cell_type": "markdown",
   "metadata": {},
   "source": [
    "### 5.4 获取取行数据\n",
    "- loc函数：通过行索引获取行数据（如获取 index 为 'a' 的行）；\n",
    "- iloc函数：通过行号获取行数据（如获取第二行的数据）。"
   ]
  },
  {
   "cell_type": "markdown",
   "metadata": {},
   "source": [
    "#### 5.4.1 利用loc、iloc获取行数据"
   ]
  },
  {
   "cell_type": "code",
   "execution_count": 182,
   "metadata": {},
   "outputs": [
    {
     "data": {
      "text/plain": [
       "'\\n    A    0\\n    B    1\\n    C    2\\n    D    3\\n    Name: a, dtype: int32\\n'"
      ]
     },
     "execution_count": 182,
     "metadata": {},
     "output_type": "execute_result"
    }
   ],
   "source": [
    "# 创建一个 DataFrame\n",
    "data=pd.DataFrame(np.arange(16).reshape(4,4),index=list('abcd'),columns=list('ABCD'))\n",
    "\"\"\"\n",
    "    A   B   C   D\n",
    "a   0   1   2   3\n",
    "b   4   5   6   7\n",
    "c   8   9  10  11\n",
    "d  12  13  14  15\n",
    "\"\"\"\n",
    "\n",
    "# 获取索引为'a'的行\n",
    "data.loc['a']\n",
    "\"\"\"\n",
    "    A    0\n",
    "    B    1\n",
    "    C    2\n",
    "    D    3\n",
    "    Name: a, dtype: int32\n",
    "\"\"\"\n",
    "\n",
    "# 获取第0行数据\n",
    "data.iloc[0] # 从 0 开始取\n",
    "\"\"\"\n",
    "    A    0\n",
    "    B    1\n",
    "    C    2\n",
    "    D    3\n",
    "    Name: a, dtype: int32\n",
    "\"\"\""
   ]
  },
  {
   "cell_type": "markdown",
   "metadata": {},
   "source": [
    "#### 5.4.2 利用loc、iloc提取列数据"
   ]
  },
  {
   "cell_type": "code",
   "execution_count": 183,
   "metadata": {},
   "outputs": [
    {
     "data": {
      "text/html": [
       "<div>\n",
       "<style scoped>\n",
       "    .dataframe tbody tr th:only-of-type {\n",
       "        vertical-align: middle;\n",
       "    }\n",
       "\n",
       "    .dataframe tbody tr th {\n",
       "        vertical-align: top;\n",
       "    }\n",
       "\n",
       "    .dataframe thead th {\n",
       "        text-align: right;\n",
       "    }\n",
       "</style>\n",
       "<table border=\"1\" class=\"dataframe\">\n",
       "  <thead>\n",
       "    <tr style=\"text-align: right;\">\n",
       "      <th></th>\n",
       "      <th>A</th>\n",
       "      <th>B</th>\n",
       "    </tr>\n",
       "  </thead>\n",
       "  <tbody>\n",
       "    <tr>\n",
       "      <th>a</th>\n",
       "      <td>0</td>\n",
       "      <td>1</td>\n",
       "    </tr>\n",
       "    <tr>\n",
       "      <th>b</th>\n",
       "      <td>4</td>\n",
       "      <td>5</td>\n",
       "    </tr>\n",
       "    <tr>\n",
       "      <th>c</th>\n",
       "      <td>8</td>\n",
       "      <td>9</td>\n",
       "    </tr>\n",
       "    <tr>\n",
       "      <th>d</th>\n",
       "      <td>12</td>\n",
       "      <td>13</td>\n",
       "    </tr>\n",
       "  </tbody>\n",
       "</table>\n",
       "</div>"
      ],
      "text/plain": [
       "    A   B\n",
       "a   0   1\n",
       "b   4   5\n",
       "c   8   9\n",
       "d  12  13"
      ]
     },
     "execution_count": 183,
     "metadata": {},
     "output_type": "execute_result"
    }
   ],
   "source": [
    "# 取第'A'列数据\n",
    "data.loc[:,'A'] # 一个冒号代表取所有\n",
    "\n",
    "# 取第'A'列和第'C'列数据\n",
    "data.loc[:, ['A', 'C']]\n",
    "\n",
    "# 取第'A'列到第'C'列数据\n",
    "data.loc[:, 'A': 'C']\n",
    "\n",
    "# 取第0列数据\n",
    "data.iloc[:, 0]\n",
    "\n",
    "# 取第0列和第2列的数据\n",
    "data.iloc[:, [0, 2]]\n",
    "\n",
    "# 取第0列到第2列的数据\n",
    "data.iloc[:, 0: 2]"
   ]
  },
  {
   "cell_type": "markdown",
   "metadata": {},
   "source": [
    "#### 5.4.3 利用loc、iloc提取指定行、指定列数据"
   ]
  },
  {
   "cell_type": "code",
   "execution_count": 184,
   "metadata": {},
   "outputs": [
    {
     "data": {
      "text/plain": [
       "'\\n       A  B\\n    a  0  1\\n    b  4  5\\n'"
      ]
     },
     "execution_count": 184,
     "metadata": {},
     "output_type": "execute_result"
    }
   ],
   "source": [
    "data.loc[['a','b'],['A','B']] #提取index为'a','b',列名为'A','B'中的数据\n",
    "'''\n",
    "       A  B\n",
    "    a  0  1\n",
    "    b  4  5\n",
    "'''\n",
    "\n",
    "data.iloc[[0,1],[0,1]] #提取第0、1行，第0、1列中的数据\n",
    "'''\n",
    "       A  B\n",
    "    a  0  1\n",
    "    b  4  5\n",
    "'''"
   ]
  },
  {
   "cell_type": "markdown",
   "metadata": {},
   "source": [
    "#### 5.4.4 利用loc、iloc获取所有行"
   ]
  },
  {
   "cell_type": "code",
   "execution_count": 185,
   "metadata": {},
   "outputs": [
    {
     "data": {
      "text/html": [
       "<div>\n",
       "<style scoped>\n",
       "    .dataframe tbody tr th:only-of-type {\n",
       "        vertical-align: middle;\n",
       "    }\n",
       "\n",
       "    .dataframe tbody tr th {\n",
       "        vertical-align: top;\n",
       "    }\n",
       "\n",
       "    .dataframe thead th {\n",
       "        text-align: right;\n",
       "    }\n",
       "</style>\n",
       "<table border=\"1\" class=\"dataframe\">\n",
       "  <thead>\n",
       "    <tr style=\"text-align: right;\">\n",
       "      <th></th>\n",
       "      <th>A</th>\n",
       "      <th>B</th>\n",
       "      <th>C</th>\n",
       "      <th>D</th>\n",
       "    </tr>\n",
       "  </thead>\n",
       "  <tbody>\n",
       "    <tr>\n",
       "      <th>a</th>\n",
       "      <td>0</td>\n",
       "      <td>1</td>\n",
       "      <td>2</td>\n",
       "      <td>3</td>\n",
       "    </tr>\n",
       "    <tr>\n",
       "      <th>b</th>\n",
       "      <td>4</td>\n",
       "      <td>5</td>\n",
       "      <td>6</td>\n",
       "      <td>7</td>\n",
       "    </tr>\n",
       "    <tr>\n",
       "      <th>c</th>\n",
       "      <td>8</td>\n",
       "      <td>9</td>\n",
       "      <td>10</td>\n",
       "      <td>11</td>\n",
       "    </tr>\n",
       "    <tr>\n",
       "      <th>d</th>\n",
       "      <td>12</td>\n",
       "      <td>13</td>\n",
       "      <td>14</td>\n",
       "      <td>15</td>\n",
       "    </tr>\n",
       "  </tbody>\n",
       "</table>\n",
       "</div>"
      ],
      "text/plain": [
       "    A   B   C   D\n",
       "a   0   1   2   3\n",
       "b   4   5   6   7\n",
       "c   8   9  10  11\n",
       "d  12  13  14  15"
      ]
     },
     "execution_count": 185,
     "metadata": {},
     "output_type": "execute_result"
    }
   ],
   "source": [
    "data.loc[:,:]\n",
    "\n",
    "data.iloc[:,:]"
   ]
  },
  {
   "cell_type": "markdown",
   "metadata": {},
   "source": [
    "#### 5.4.5 利用loc函数，根据某个数据来提取数据所在的行"
   ]
  },
  {
   "cell_type": "code",
   "execution_count": 186,
   "metadata": {},
   "outputs": [
    {
     "data": {
      "text/html": [
       "<div>\n",
       "<style scoped>\n",
       "    .dataframe tbody tr th:only-of-type {\n",
       "        vertical-align: middle;\n",
       "    }\n",
       "\n",
       "    .dataframe tbody tr th {\n",
       "        vertical-align: top;\n",
       "    }\n",
       "\n",
       "    .dataframe thead th {\n",
       "        text-align: right;\n",
       "    }\n",
       "</style>\n",
       "<table border=\"1\" class=\"dataframe\">\n",
       "  <thead>\n",
       "    <tr style=\"text-align: right;\">\n",
       "      <th></th>\n",
       "      <th>A</th>\n",
       "      <th>B</th>\n",
       "      <th>C</th>\n",
       "      <th>D</th>\n",
       "    </tr>\n",
       "  </thead>\n",
       "  <tbody>\n",
       "    <tr>\n",
       "      <th>a</th>\n",
       "      <td>0</td>\n",
       "      <td>1</td>\n",
       "      <td>2</td>\n",
       "      <td>3</td>\n",
       "    </tr>\n",
       "  </tbody>\n",
       "</table>\n",
       "</div>"
      ],
      "text/plain": [
       "   A  B  C  D\n",
       "a  0  1  2  3"
      ]
     },
     "execution_count": 186,
     "metadata": {},
     "output_type": "execute_result"
    }
   ],
   "source": [
    "data.loc[data['A'] == 0] # 提取data数据(筛选条件: A列中数字为0所在的行数据)"
   ]
  },
  {
   "cell_type": "markdown",
   "metadata": {},
   "source": [
    "## 6. 数据统计"
   ]
  },
  {
   "cell_type": "markdown",
   "metadata": {},
   "source": [
    "### 6.1 创建计算字段"
   ]
  },
  {
   "cell_type": "code",
   "execution_count": 187,
   "metadata": {},
   "outputs": [],
   "source": [
    "df_all['单人付费总额'] = df_all['单次付费金额'] * df_all['付款次数']"
   ]
  },
  {
   "cell_type": "markdown",
   "metadata": {},
   "source": [
    "### 6.2 分组统计"
   ]
  },
  {
   "cell_type": "code",
   "execution_count": 188,
   "metadata": {},
   "outputs": [
    {
     "data": {
      "text/plain": [
       "最高学历\n",
       "        28\n",
       "专升本     34\n",
       "专科      87\n",
       "本科     926\n",
       "硕士     229\n",
       "高中       4\n",
       "Name: 姓名, dtype: int64"
      ]
     },
     "execution_count": 188,
     "metadata": {},
     "output_type": "execute_result"
    }
   ],
   "source": [
    "# 统计每种学历下各有多少人\n",
    "# groupby(by='分组条件') 按照分组条件进行分组\n",
    "# count() 统计数据有多少条，不统计空缺值\n",
    "df_all.groupby(by='最高学历')['姓名'].count()\n",
    "\n",
    "# 描述性统计：min() max() mean() medium() std() count()"
   ]
  },
  {
   "cell_type": "markdown",
   "metadata": {},
   "source": [
    "## 7. 数据导出"
   ]
  },
  {
   "cell_type": "code",
   "execution_count": 189,
   "metadata": {},
   "outputs": [],
   "source": [
    "# 将数组 df_beijing 导出到 Excel 中\n",
    "df_beijing.to_excel('./超级简历过去半年用户行为数据_北京.xlsx', sheet_name='北京') #! 如果存在同名Excel文件，则会将该Excel文件清空，然后导入数据 df_beijing"
   ]
  },
  {
   "cell_type": "markdown",
   "metadata": {},
   "source": [
    "## 作业"
   ]
  },
  {
   "cell_type": "code",
   "execution_count": 190,
   "metadata": {},
   "outputs": [],
   "source": [
    "# 筛选毕业时间为2023年的学生\n",
    "df_2023 = df_all[df_all['毕业时间'] == '2023年']"
   ]
  },
  {
   "cell_type": "code",
   "execution_count": 191,
   "metadata": {},
   "outputs": [
    {
     "data": {
      "text/html": [
       "<div>\n",
       "<style scoped>\n",
       "    .dataframe tbody tr th:only-of-type {\n",
       "        vertical-align: middle;\n",
       "    }\n",
       "\n",
       "    .dataframe tbody tr th {\n",
       "        vertical-align: top;\n",
       "    }\n",
       "\n",
       "    .dataframe thead th {\n",
       "        text-align: right;\n",
       "    }\n",
       "</style>\n",
       "<table border=\"1\" class=\"dataframe\">\n",
       "  <thead>\n",
       "    <tr style=\"text-align: right;\">\n",
       "      <th></th>\n",
       "      <th>姓名</th>\n",
       "      <th>毕业时间</th>\n",
       "      <th>最高学历</th>\n",
       "      <th>学校背景</th>\n",
       "      <th>首次付费时间</th>\n",
       "      <th>是否付费</th>\n",
       "      <th>意向岗位</th>\n",
       "      <th>意向城市</th>\n",
       "      <th>单次付费金额</th>\n",
       "      <th>付款次数</th>\n",
       "      <th>是否写简历</th>\n",
       "      <th>注册时间</th>\n",
       "      <th>单人付费总额</th>\n",
       "    </tr>\n",
       "  </thead>\n",
       "  <tbody>\n",
       "    <tr>\n",
       "      <th>122</th>\n",
       "      <td>同学780</td>\n",
       "      <td>2020年</td>\n",
       "      <td>本科</td>\n",
       "      <td>双非</td>\n",
       "      <td>2022-06-07</td>\n",
       "      <td>否</td>\n",
       "      <td>产品</td>\n",
       "      <td>北京</td>\n",
       "      <td>0.0</td>\n",
       "      <td>NaN</td>\n",
       "      <td>是</td>\n",
       "      <td>2022-06-13</td>\n",
       "      <td>NaN</td>\n",
       "    </tr>\n",
       "    <tr>\n",
       "      <th>129</th>\n",
       "      <td>同学163</td>\n",
       "      <td>2020年</td>\n",
       "      <td>本科</td>\n",
       "      <td>海外</td>\n",
       "      <td>2022-08-05</td>\n",
       "      <td>是</td>\n",
       "      <td>产品</td>\n",
       "      <td>北京</td>\n",
       "      <td>19.0</td>\n",
       "      <td>2.0</td>\n",
       "      <td>是</td>\n",
       "      <td>2022-08-08</td>\n",
       "      <td>38.0</td>\n",
       "    </tr>\n",
       "    <tr>\n",
       "      <th>133</th>\n",
       "      <td>同学379</td>\n",
       "      <td>2020年</td>\n",
       "      <td>本科</td>\n",
       "      <td>双非</td>\n",
       "      <td>2022-07-14</td>\n",
       "      <td>是</td>\n",
       "      <td>产品</td>\n",
       "      <td>北京</td>\n",
       "      <td>19.0</td>\n",
       "      <td>1.0</td>\n",
       "      <td>是</td>\n",
       "      <td>2022-07-15</td>\n",
       "      <td>19.0</td>\n",
       "    </tr>\n",
       "    <tr>\n",
       "      <th>138</th>\n",
       "      <td>同学1306</td>\n",
       "      <td>2020年</td>\n",
       "      <td>本科</td>\n",
       "      <td>双非</td>\n",
       "      <td>2021-12-23</td>\n",
       "      <td>是</td>\n",
       "      <td>产品</td>\n",
       "      <td>北京</td>\n",
       "      <td>45.0</td>\n",
       "      <td>1.0</td>\n",
       "      <td>否</td>\n",
       "      <td>2021-12-24</td>\n",
       "      <td>45.0</td>\n",
       "    </tr>\n",
       "    <tr>\n",
       "      <th>371</th>\n",
       "      <td>同学732</td>\n",
       "      <td>2020年</td>\n",
       "      <td>本科</td>\n",
       "      <td>双非</td>\n",
       "      <td>2022-06-10</td>\n",
       "      <td>否</td>\n",
       "      <td>产品</td>\n",
       "      <td>广州</td>\n",
       "      <td>0.0</td>\n",
       "      <td>NaN</td>\n",
       "      <td>是</td>\n",
       "      <td>2022-06-10</td>\n",
       "      <td>NaN</td>\n",
       "    </tr>\n",
       "    <tr>\n",
       "      <th>373</th>\n",
       "      <td>同学764</td>\n",
       "      <td>2020年</td>\n",
       "      <td>本科</td>\n",
       "      <td>双非</td>\n",
       "      <td>2022-06-08</td>\n",
       "      <td>否</td>\n",
       "      <td>产品</td>\n",
       "      <td>广州</td>\n",
       "      <td>0.0</td>\n",
       "      <td>NaN</td>\n",
       "      <td>是</td>\n",
       "      <td>2022-06-14</td>\n",
       "      <td>NaN</td>\n",
       "    </tr>\n",
       "    <tr>\n",
       "      <th>374</th>\n",
       "      <td>同学827</td>\n",
       "      <td>2020年</td>\n",
       "      <td>本科</td>\n",
       "      <td>双非</td>\n",
       "      <td>2022-05-26</td>\n",
       "      <td>否</td>\n",
       "      <td>产品</td>\n",
       "      <td>广州</td>\n",
       "      <td>0.0</td>\n",
       "      <td>NaN</td>\n",
       "      <td>是</td>\n",
       "      <td>2022-06-01</td>\n",
       "      <td>NaN</td>\n",
       "    </tr>\n",
       "    <tr>\n",
       "      <th>379</th>\n",
       "      <td>同学242</td>\n",
       "      <td>2020年</td>\n",
       "      <td>本科</td>\n",
       "      <td>双非</td>\n",
       "      <td>2022-07-27</td>\n",
       "      <td>是</td>\n",
       "      <td>产品</td>\n",
       "      <td>非一线</td>\n",
       "      <td>99.0</td>\n",
       "      <td>1.0</td>\n",
       "      <td>是</td>\n",
       "      <td>2022-07-30</td>\n",
       "      <td>99.0</td>\n",
       "    </tr>\n",
       "    <tr>\n",
       "      <th>534</th>\n",
       "      <td>同学763</td>\n",
       "      <td>2020年</td>\n",
       "      <td>本科</td>\n",
       "      <td>海外</td>\n",
       "      <td>2022-06-08</td>\n",
       "      <td>否</td>\n",
       "      <td>产品</td>\n",
       "      <td>上海</td>\n",
       "      <td>0.0</td>\n",
       "      <td>NaN</td>\n",
       "      <td>是</td>\n",
       "      <td>2022-06-14</td>\n",
       "      <td>NaN</td>\n",
       "    </tr>\n",
       "    <tr>\n",
       "      <th>546</th>\n",
       "      <td>同学187</td>\n",
       "      <td>2020年</td>\n",
       "      <td>本科</td>\n",
       "      <td>双非</td>\n",
       "      <td>2022-08-03</td>\n",
       "      <td>是</td>\n",
       "      <td>产品</td>\n",
       "      <td>上海</td>\n",
       "      <td>19.0</td>\n",
       "      <td>2.0</td>\n",
       "      <td>是</td>\n",
       "      <td>2022-08-06</td>\n",
       "      <td>38.0</td>\n",
       "    </tr>\n",
       "    <tr>\n",
       "      <th>547</th>\n",
       "      <td>同学250</td>\n",
       "      <td>2020年</td>\n",
       "      <td>硕士</td>\n",
       "      <td>海外</td>\n",
       "      <td>2022-07-26</td>\n",
       "      <td>是</td>\n",
       "      <td>产品</td>\n",
       "      <td>上海</td>\n",
       "      <td>79.0</td>\n",
       "      <td>2.0</td>\n",
       "      <td>是</td>\n",
       "      <td>2022-07-29</td>\n",
       "      <td>158.0</td>\n",
       "    </tr>\n",
       "    <tr>\n",
       "      <th>549</th>\n",
       "      <td>同学412</td>\n",
       "      <td>2020年</td>\n",
       "      <td>本科</td>\n",
       "      <td>双非</td>\n",
       "      <td>2022-07-11</td>\n",
       "      <td>是</td>\n",
       "      <td>产品</td>\n",
       "      <td>上海</td>\n",
       "      <td>19.0</td>\n",
       "      <td>1.0</td>\n",
       "      <td>是</td>\n",
       "      <td>2022-07-12</td>\n",
       "      <td>19.0</td>\n",
       "    </tr>\n",
       "    <tr>\n",
       "      <th>555</th>\n",
       "      <td>同学1204</td>\n",
       "      <td>2020年</td>\n",
       "      <td>本科</td>\n",
       "      <td>海外</td>\n",
       "      <td>2022-03-23</td>\n",
       "      <td>是</td>\n",
       "      <td>产品</td>\n",
       "      <td>上海</td>\n",
       "      <td>99.0</td>\n",
       "      <td>1.0</td>\n",
       "      <td>否</td>\n",
       "      <td>2022-03-24</td>\n",
       "      <td>99.0</td>\n",
       "    </tr>\n",
       "    <tr>\n",
       "      <th>697</th>\n",
       "      <td>同学828</td>\n",
       "      <td>2020年</td>\n",
       "      <td>本科</td>\n",
       "      <td>海外</td>\n",
       "      <td>2022-05-26</td>\n",
       "      <td>否</td>\n",
       "      <td>产品</td>\n",
       "      <td>深圳</td>\n",
       "      <td>0.0</td>\n",
       "      <td>NaN</td>\n",
       "      <td>是</td>\n",
       "      <td>2022-06-01</td>\n",
       "      <td>NaN</td>\n",
       "    </tr>\n",
       "  </tbody>\n",
       "</table>\n",
       "</div>"
      ],
      "text/plain": [
       "         姓名   毕业时间 最高学历 学校背景     首次付费时间 是否付费 意向岗位 意向城市  单次付费金额  付款次数 是否写简历  \\\n",
       "122   同学780  2020年   本科   双非 2022-06-07    否   产品   北京     0.0   NaN     是   \n",
       "129   同学163  2020年   本科   海外 2022-08-05    是   产品   北京    19.0   2.0     是   \n",
       "133   同学379  2020年   本科   双非 2022-07-14    是   产品   北京    19.0   1.0     是   \n",
       "138  同学1306  2020年   本科   双非 2021-12-23    是   产品   北京    45.0   1.0     否   \n",
       "371   同学732  2020年   本科   双非 2022-06-10    否   产品   广州     0.0   NaN     是   \n",
       "373   同学764  2020年   本科   双非 2022-06-08    否   产品   广州     0.0   NaN     是   \n",
       "374   同学827  2020年   本科   双非 2022-05-26    否   产品   广州     0.0   NaN     是   \n",
       "379   同学242  2020年   本科   双非 2022-07-27    是   产品  非一线    99.0   1.0     是   \n",
       "534   同学763  2020年   本科   海外 2022-06-08    否   产品   上海     0.0   NaN     是   \n",
       "546   同学187  2020年   本科   双非 2022-08-03    是   产品   上海    19.0   2.0     是   \n",
       "547   同学250  2020年   硕士   海外 2022-07-26    是   产品   上海    79.0   2.0     是   \n",
       "549   同学412  2020年   本科   双非 2022-07-11    是   产品   上海    19.0   1.0     是   \n",
       "555  同学1204  2020年   本科   海外 2022-03-23    是   产品   上海    99.0   1.0     否   \n",
       "697   同学828  2020年   本科   海外 2022-05-26    否   产品   深圳     0.0   NaN     是   \n",
       "\n",
       "          注册时间  单人付费总额  \n",
       "122 2022-06-13     NaN  \n",
       "129 2022-08-08    38.0  \n",
       "133 2022-07-15    19.0  \n",
       "138 2021-12-24    45.0  \n",
       "371 2022-06-10     NaN  \n",
       "373 2022-06-14     NaN  \n",
       "374 2022-06-01     NaN  \n",
       "379 2022-07-30    99.0  \n",
       "534 2022-06-14     NaN  \n",
       "546 2022-08-06    38.0  \n",
       "547 2022-07-29   158.0  \n",
       "549 2022-07-12    19.0  \n",
       "555 2022-03-24    99.0  \n",
       "697 2022-06-01     NaN  "
      ]
     },
     "execution_count": 191,
     "metadata": {},
     "output_type": "execute_result"
    }
   ],
   "source": [
    "# 筛选出毕业时间为2020年且意向岗位为产品的学生\n",
    "df_all.loc[(df_all['毕业时间'] == '2020年') & (df_all['意向岗位'] == '产品')]"
   ]
  },
  {
   "cell_type": "code",
   "execution_count": 192,
   "metadata": {},
   "outputs": [
    {
     "data": {
      "text/plain": [
       "dtype('int16')"
      ]
     },
     "execution_count": 192,
     "metadata": {},
     "output_type": "execute_result"
    }
   ],
   "source": [
    "# 重新生成一列姓名，把姓名中的同学两字去掉，查看新生成的姓名的类型，并将其转换为另一种类型\n",
    "df_all['姓名'] = df_all['姓名'].str.replace('同学', '')\n",
    "\n",
    "df_all['姓名'].dtype # dtype('O') 类型为 object\n",
    "\n",
    "df_all['姓名'] = pd.to_numeric(df_all['姓名'], downcast='signed')\n",
    "df_all['姓名'].dtype  # 类型为 object"
   ]
  },
  {
   "cell_type": "code",
   "execution_count": 193,
   "metadata": {},
   "outputs": [
    {
     "data": {
      "text/plain": [
       "最高学历\n",
       "         931.0\n",
       "专升本     2146.0\n",
       "专科      5820.0\n",
       "本科     68153.0\n",
       "硕士     17467.0\n",
       "高中       538.0\n",
       "Name: 单人付费总额, dtype: float64"
      ]
     },
     "execution_count": 193,
     "metadata": {},
     "output_type": "execute_result"
    }
   ],
   "source": [
    "# 将未付费学生的付费金额、付费次数，填充为0，并统计不同学历学生的付费总金额\n",
    "df_all['单次付费金额'].fillna(value=0, inplace=True)\n",
    "df_all['付款次数'].fillna(value=0, inplace=True)\n",
    "\n",
    "df_all['单人付费总额'] = df_all['单次付费金额'] * df_all['付款次数']\n",
    "df_all.groupby(by='最高学历')['单人付费总额'].sum()\n",
    "\"\"\"\n",
    "    最高学历\n",
    "             931.0\n",
    "    专升本     2146.0\n",
    "    专科      5820.0\n",
    "    本科     68153.0\n",
    "    硕士     17467.0\n",
    "    高中       538.0\n",
    "    Name: 单人付费总额, dtype: float64\n",
    "\"\"\""
   ]
  }
 ],
 "metadata": {
  "kernelspec": {
   "display_name": "Python 3 (ipykernel)",
   "language": "python",
   "name": "python3"
  },
  "language_info": {
   "codemirror_mode": {
    "name": "ipython",
    "version": 3
   },
   "file_extension": ".py",
   "mimetype": "text/x-python",
   "name": "python",
   "nbconvert_exporter": "python",
   "pygments_lexer": "ipython3",
   "version": "3.9.13"
  },
  "vscode": {
   "interpreter": {
    "hash": "49cb93f377a7abe7414b7b0f21fb3017538004a126cf690fb524202736b7fb92"
   }
  }
 },
 "nbformat": 4,
 "nbformat_minor": 2
}
