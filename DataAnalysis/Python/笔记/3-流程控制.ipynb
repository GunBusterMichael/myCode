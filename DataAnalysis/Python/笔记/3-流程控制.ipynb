{
 "cells": [
  {
   "cell_type": "markdown",
   "metadata": {},
   "source": [
    "# 三、流程控制"
   ]
  },
  {
   "cell_type": "markdown",
   "metadata": {},
   "source": [
    "## 1. 流程判断"
   ]
  },
  {
   "cell_type": "markdown",
   "metadata": {},
   "source": [
    "### 1.1 语法"
   ]
  },
  {
   "cell_type": "code",
   "execution_count": null,
   "metadata": {},
   "outputs": [],
   "source": [
    "# 条件判断可以任意组合：elif可有1到任意多个，else可有可无；可进行嵌套\n",
    "\"\"\"\n",
    "    if condition:\n",
    "        do something\n",
    "    elif condition:\n",
    "        do something\n",
    "    else:\n",
    "        do something\n",
    "\"\"\"\n",
    "\n",
    "score = input('请输入成绩（0-100）：') # input 获取的数据均为 str 类型\n",
    "# score = int(score)  # 由于python不能直接将包含小数点的字符串转化为整数，所以如果 score 是小数，会报错，98.0（小数部分为0）也不行\n",
    "score = int(float(score))\n",
    "\n",
    "if score >= 0 and score < 60:\n",
    "    print('不及格')\n",
    "elif score >= 60 and score < 80:\n",
    "    print('及格')\n",
    "elif score >= 80 and score < 90:\n",
    "    print('良好')\n",
    "elif score >= 90 and score < 100:\n",
    "    print('优秀')\n",
    "else:\n",
    "    print('您的数据超出范围！！')\n"
   ]
  },
  {
   "cell_type": "markdown",
   "metadata": {},
   "source": [
    "## 2. while 循环（条件循环）"
   ]
  },
  {
   "cell_type": "code",
   "execution_count": 14,
   "metadata": {},
   "outputs": [
    {
     "name": "stdout",
     "output_type": "stream",
     "text": [
      "5050\n"
     ]
    }
   ],
   "source": [
    "# 某种条件为 True 时，执行循环体；否则循环结束\n",
    "\"\"\"\n",
    "  while condition：\n",
    "      do something\n",
    "\"\"\"\n",
    "\n",
    "# 1-100求和\n",
    "i = 0\n",
    "sum = 0\n",
    "\n",
    "while i < 100:\n",
    "    i += 1\n",
    "    sum += i\n",
    "\n",
    "print(sum)"
   ]
  },
  {
   "cell_type": "code",
   "execution_count": null,
   "metadata": {},
   "outputs": [],
   "source": [
    "# 跳出循环\n",
    "# break：跳出整个循环\n",
    "# continue：跳出本次循环\n",
    "\n",
    "# 当数值大于9时，结束循环（break实例）\n",
    "n = 0\n",
    "while n <= 100:\n",
    "    if n > 9:\n",
    "        break # 跳出整个循环，整个 while 语句不再执行\n",
    "    print(n)\n",
    "    n += 1\n",
    "\n",
    "# 向一个列表中放入0-20范围内的所有偶数（continue实例）\n",
    "list = []\n",
    "n = -1\n",
    "\n",
    "while n <= 20:\n",
    "    n += 1\n",
    "    if n%2 == 0:\n",
    "        list.append(n)\n",
    "    else:\n",
    "        continue\n",
    "\n",
    "print(list)"
   ]
  },
  {
   "cell_type": "code",
   "execution_count": 4,
   "metadata": {},
   "outputs": [
    {
     "name": "stdout",
     "output_type": "stream",
     "text": [
      "74\n",
      "已使用1次机会 猜对了\n"
     ]
    }
   ],
   "source": [
    "# 作业\n",
    "\n",
    "# 猜数字\n",
    "# 系统随机生成一个1～100的数字；\n",
    "# 用户共有5次机会猜；\n",
    "# 如果用户猜测数字大于系统给出的数字，打印\"too big\"\n",
    "# 如果用户猜测数字小于系统给出的数字，打印\"too small\"\n",
    "# 如果用户猜测的数字等于系统给出的数字，打印\"猜对了！\"，\n",
    "# 并退出循环\n",
    "\n",
    "\n",
    "import random\n",
    "sysNum = random.randint(1, 100)\n",
    "print(sysNum)\n",
    "\n",
    "times = 0\n",
    "\n",
    "while times < 5:\n",
    "    times += 1\n",
    "    plrNum = int(input('猜数字\\n请输入1～100之间的整数\\n您有五次机会'))\n",
    "    if plrNum > sysNum:\n",
    "        print('too big')\n",
    "    if plrNum < sysNum:\n",
    "        print('too small')\n",
    "    if plrNum == sysNum:\n",
    "        print('已使用' + str(times) + '次机会 猜对了')\n",
    "        break\n"
   ]
  },
  {
   "cell_type": "markdown",
   "metadata": {},
   "source": [
    "## 3. for循环（遍历循环）"
   ]
  },
  {
   "cell_type": "code",
   "execution_count": 7,
   "metadata": {},
   "outputs": [
    {
     "name": "stdout",
     "output_type": "stream",
     "text": [
      "5050\n",
      "apple\n",
      "banana\n",
      "peach\n"
     ]
    }
   ],
   "source": [
    "# for 循环用于迭代序列（即列表，元组，字典，集合或字符串）\n",
    "# 提示：for 循环不需要预先设置索引变量。\n",
    "\n",
    "# 1-100求和\n",
    "total = 0\n",
    "# range() 函数返回一个数字序列，默认情况下从 0 开始，并递增 1（默认地），并以指定的数字结束。\n",
    "for i in range(0, 101): # 左开右闭，可简写成range(101)\n",
    "    total += i\n",
    "print(total)\n",
    "\n",
    "# 遍历 list\n",
    "fruits = ['apple', 'banana', 'peach']\n",
    "for frt in fruits:\n",
    "    print(frt)"
   ]
  },
  {
   "cell_type": "code",
   "execution_count": 14,
   "metadata": {},
   "outputs": [
    {
     "name": "stdout",
     "output_type": "stream",
     "text": [
      "1 * 1 = 1\n",
      "1 * 2 = 2  2 * 2 = 4\n",
      "1 * 3 = 3  2 * 3 = 6  3 * 3 = 9\n",
      "1 * 4 = 4  2 * 4 = 8  3 * 4 = 12  4 * 4 = 16\n",
      "1 * 5 = 5  2 * 5 = 10  3 * 5 = 15  4 * 5 = 20  5 * 5 = 25\n",
      "1 * 6 = 6  2 * 6 = 12  3 * 6 = 18  4 * 6 = 24  5 * 6 = 30  6 * 6 = 36\n",
      "1 * 7 = 7  2 * 7 = 14  3 * 7 = 21  4 * 7 = 28  5 * 7 = 35  6 * 7 = 42  7 * 7 = 49\n",
      "1 * 8 = 8  2 * 8 = 16  3 * 8 = 24  4 * 8 = 32  5 * 8 = 40  6 * 8 = 48  7 * 8 = 56  8 * 8 = 64\n",
      "1 * 9 = 9  2 * 9 = 18  3 * 9 = 27  4 * 9 = 36  5 * 9 = 45  6 * 9 = 54  7 * 9 = 63  8 * 9 = 72  9 * 9 = 81\n"
     ]
    }
   ],
   "source": [
    "# 作业\n",
    "\n",
    "# 打印99乘法表\n",
    "# 知识点：print(), for循环\n",
    "\n",
    "# 效果\n",
    "# 1 * 1 = 1\n",
    "# 1 * 2 = 2   2 * 2 = 4\n",
    "# 1 * 3 = 3   2 * 3 = 6   3 * 3 = 9\n",
    "# 1 * 4 = 4   2 * 4 = 8   3 * 4 = 12   4 * 4 = 16\n",
    "# 1 * 5 = 5   2 * 5 = 10   3 * 5 = 15   4 * 5 = 20   5 * 5 = 25\n",
    "# 1 * 6 = 6   2 * 6 = 12   3 * 6 = 18   4 * 6 = 24   5 * 6 = 30   6 * 6 = 36\n",
    "# 1 * 7 = 7   2 * 7 = 14   3 * 7 = 21   4 * 7 = 28   5 * 7 = 35   6 * 7 = 42   7 * 7 = 49\n",
    "# 1 * 8 = 8   2 * 8 = 16   3 * 8 = 24   4 * 8 = 32   5 * 8 = 40   6 * 8 = 48   7 * 8 = 56   8 * 8 = 64\n",
    "# 1 * 9 = 9   2 * 9 = 18   3 * 9 = 27   4 * 9 = 36   5 * 9 = 45   6 * 9 = 54   7 * 9 = 63   8 * 9 = 72   9 * 9 = 81\n",
    "\n",
    "for a in range(1, 10):\n",
    "    re = ''\n",
    "    for b in range(1, a + 1):\n",
    "        plusRe = str(a * b)\n",
    "        re = re + str(b) + ' * ' + str(a) + ' = ' + plusRe + '  '\n",
    "    print(re.rstrip())  # str.rstrip() 去除字符串末尾空格"
   ]
  }
 ],
 "metadata": {
  "kernelspec": {
   "display_name": "Python 3.10.7 64-bit",
   "language": "python",
   "name": "python3"
  },
  "language_info": {
   "codemirror_mode": {
    "name": "ipython",
    "version": 3
   },
   "file_extension": ".py",
   "mimetype": "text/x-python",
   "name": "python",
   "nbconvert_exporter": "python",
   "pygments_lexer": "ipython3",
   "version": "3.10.7"
  },
  "orig_nbformat": 4,
  "vscode": {
   "interpreter": {
    "hash": "657d93d108f8ceb5549d439fcb6f6fe45ca1b06c8b798c25a3c91558a4f1fe36"
   }
  }
 },
 "nbformat": 4,
 "nbformat_minor": 2
}
